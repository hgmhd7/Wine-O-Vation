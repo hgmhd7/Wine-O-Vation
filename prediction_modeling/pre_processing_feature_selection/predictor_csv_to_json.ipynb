{
 "cells": [
  {
   "cell_type": "code",
   "execution_count": 1,
   "metadata": {},
   "outputs": [],
   "source": [
    "# Import pandas\n",
    "import pandas as pd"
   ]
  },
  {
   "cell_type": "code",
   "execution_count": 2,
   "metadata": {},
   "outputs": [],
   "source": [
    "master_df = pd.read_csv('../../data/recommender_table.csv')"
   ]
  },
  {
   "cell_type": "code",
   "execution_count": 3,
   "metadata": {},
   "outputs": [
    {
     "data": {
      "text/html": [
       "<div>\n",
       "<style scoped>\n",
       "    .dataframe tbody tr th:only-of-type {\n",
       "        vertical-align: middle;\n",
       "    }\n",
       "\n",
       "    .dataframe tbody tr th {\n",
       "        vertical-align: top;\n",
       "    }\n",
       "\n",
       "    .dataframe thead th {\n",
       "        text-align: right;\n",
       "    }\n",
       "</style>\n",
       "<table border=\"1\" class=\"dataframe\">\n",
       "  <thead>\n",
       "    <tr style=\"text-align: right;\">\n",
       "      <th></th>\n",
       "      <th>title</th>\n",
       "      <th>country</th>\n",
       "      <th>province</th>\n",
       "      <th>winery</th>\n",
       "      <th>price</th>\n",
       "      <th>variety</th>\n",
       "      <th>category</th>\n",
       "      <th>flavor_notes</th>\n",
       "      <th>points</th>\n",
       "      <th>description</th>\n",
       "    </tr>\n",
       "  </thead>\n",
       "  <tbody>\n",
       "    <tr>\n",
       "      <th>0</th>\n",
       "      <td>Tenuta dell'Ornellaia 2007 Masseto Merlot (Tos...</td>\n",
       "      <td>Italy</td>\n",
       "      <td>Tuscany</td>\n",
       "      <td>Tenuta dell'Ornellaia</td>\n",
       "      <td>460</td>\n",
       "      <td>Merlot</td>\n",
       "      <td>red</td>\n",
       "      <td>medium bodied, balanced</td>\n",
       "      <td>100</td>\n",
       "      <td>A perfect wine from a classic vintage, the 200...</td>\n",
       "    </tr>\n",
       "    <tr>\n",
       "      <th>1</th>\n",
       "      <td>Casa Ferreirinha 2008 Barca-Velha Red (Douro)</td>\n",
       "      <td>Portugal</td>\n",
       "      <td>Douro</td>\n",
       "      <td>Casa Ferreirinha</td>\n",
       "      <td>450</td>\n",
       "      <td>Portuguese Red</td>\n",
       "      <td>red</td>\n",
       "      <td>medium bodied, balanced</td>\n",
       "      <td>100</td>\n",
       "      <td>This is the latest release of what has long be...</td>\n",
       "    </tr>\n",
       "    <tr>\n",
       "      <th>2</th>\n",
       "      <td>Biondi Santi 2010 Riserva  (Brunello di Montal...</td>\n",
       "      <td>Italy</td>\n",
       "      <td>Tuscany</td>\n",
       "      <td>Biondi Santi</td>\n",
       "      <td>550</td>\n",
       "      <td>Sangiovese</td>\n",
       "      <td>red</td>\n",
       "      <td>medium bodied, balanced</td>\n",
       "      <td>100</td>\n",
       "      <td>This gorgeous, fragrant wine opens with classi...</td>\n",
       "    </tr>\n",
       "    <tr>\n",
       "      <th>3</th>\n",
       "      <td>Cardinale 2006 Cabernet Sauvignon (Napa Valley)</td>\n",
       "      <td>US</td>\n",
       "      <td>California</td>\n",
       "      <td>Cardinale</td>\n",
       "      <td>200</td>\n",
       "      <td>Cabernet Sauvignon</td>\n",
       "      <td>red</td>\n",
       "      <td>medium bodied, balanced</td>\n",
       "      <td>100</td>\n",
       "      <td>Tasted in a flight of great and famous Napa wi...</td>\n",
       "    </tr>\n",
       "    <tr>\n",
       "      <th>4</th>\n",
       "      <td>Château Léoville Barton 2010  Saint-Julien</td>\n",
       "      <td>France</td>\n",
       "      <td>Bordeaux</td>\n",
       "      <td>Château Léoville Barton</td>\n",
       "      <td>150</td>\n",
       "      <td>Bordeaux-style Red Blend</td>\n",
       "      <td>red</td>\n",
       "      <td>other</td>\n",
       "      <td>100</td>\n",
       "      <td>This is a magnificently solid wine, initially ...</td>\n",
       "    </tr>\n",
       "  </tbody>\n",
       "</table>\n",
       "</div>"
      ],
      "text/plain": [
       "                                               title   country    province  \\\n",
       "0  Tenuta dell'Ornellaia 2007 Masseto Merlot (Tos...     Italy     Tuscany   \n",
       "1      Casa Ferreirinha 2008 Barca-Velha Red (Douro)  Portugal       Douro   \n",
       "2  Biondi Santi 2010 Riserva  (Brunello di Montal...     Italy     Tuscany   \n",
       "3    Cardinale 2006 Cabernet Sauvignon (Napa Valley)        US  California   \n",
       "4         Château Léoville Barton 2010  Saint-Julien    France    Bordeaux   \n",
       "\n",
       "                    winery  price                   variety category  \\\n",
       "0    Tenuta dell'Ornellaia    460                    Merlot      red   \n",
       "1         Casa Ferreirinha    450            Portuguese Red      red   \n",
       "2             Biondi Santi    550                Sangiovese      red   \n",
       "3                Cardinale    200        Cabernet Sauvignon      red   \n",
       "4  Château Léoville Barton    150  Bordeaux-style Red Blend      red   \n",
       "\n",
       "              flavor_notes  points  \\\n",
       "0  medium bodied, balanced     100   \n",
       "1  medium bodied, balanced     100   \n",
       "2  medium bodied, balanced     100   \n",
       "3  medium bodied, balanced     100   \n",
       "4                    other     100   \n",
       "\n",
       "                                         description  \n",
       "0  A perfect wine from a classic vintage, the 200...  \n",
       "1  This is the latest release of what has long be...  \n",
       "2  This gorgeous, fragrant wine opens with classi...  \n",
       "3  Tasted in a flight of great and famous Napa wi...  \n",
       "4  This is a magnificently solid wine, initially ...  "
      ]
     },
     "execution_count": 3,
     "metadata": {},
     "output_type": "execute_result"
    }
   ],
   "source": [
    "master_df.head()"
   ]
  },
  {
   "cell_type": "code",
   "execution_count": 4,
   "metadata": {},
   "outputs": [],
   "source": [
    "export = master_df.to_json(\"../../wine_application/parallax-template/static/js/recommender_json.json\", orient='records')"
   ]
  },
  {
   "cell_type": "code",
   "execution_count": null,
   "metadata": {},
   "outputs": [],
   "source": []
  }
 ],
 "metadata": {
  "kernelspec": {
   "display_name": "Python [conda env:PythonData]",
   "language": "python",
   "name": "conda-env-PythonData-py"
  },
  "language_info": {
   "codemirror_mode": {
    "name": "ipython",
    "version": 3
   },
   "file_extension": ".py",
   "mimetype": "text/x-python",
   "name": "python",
   "nbconvert_exporter": "python",
   "pygments_lexer": "ipython3",
   "version": "3.6.8"
  }
 },
 "nbformat": 4,
 "nbformat_minor": 2
}
