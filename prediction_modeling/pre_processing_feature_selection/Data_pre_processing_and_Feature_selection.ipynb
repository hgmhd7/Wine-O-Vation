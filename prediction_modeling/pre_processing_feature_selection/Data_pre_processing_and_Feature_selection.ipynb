{
 "cells": [
  {
   "cell_type": "code",
   "execution_count": 49,
   "metadata": {},
   "outputs": [],
   "source": [
    "import pandas as pd\n",
    "import numpy as np\n",
    "import pyreadstat\n",
    "import os"
   ]
  },
  {
   "cell_type": "code",
   "execution_count": 50,
   "metadata": {},
   "outputs": [],
   "source": [
    "df = pd.read_csv(\"winemag-data-130k-v2.csv\")"
   ]
  },
  {
   "cell_type": "code",
   "execution_count": 51,
   "metadata": {},
   "outputs": [
    {
     "data": {
      "text/html": [
       "<div>\n",
       "<style scoped>\n",
       "    .dataframe tbody tr th:only-of-type {\n",
       "        vertical-align: middle;\n",
       "    }\n",
       "\n",
       "    .dataframe tbody tr th {\n",
       "        vertical-align: top;\n",
       "    }\n",
       "\n",
       "    .dataframe thead th {\n",
       "        text-align: right;\n",
       "    }\n",
       "</style>\n",
       "<table border=\"1\" class=\"dataframe\">\n",
       "  <thead>\n",
       "    <tr style=\"text-align: right;\">\n",
       "      <th></th>\n",
       "      <th>Unnamed: 0</th>\n",
       "      <th>country</th>\n",
       "      <th>description</th>\n",
       "      <th>designation</th>\n",
       "      <th>points</th>\n",
       "      <th>price</th>\n",
       "      <th>province</th>\n",
       "      <th>region_1</th>\n",
       "      <th>region_2</th>\n",
       "      <th>taster_name</th>\n",
       "      <th>taster_twitter_handle</th>\n",
       "      <th>title</th>\n",
       "      <th>variety</th>\n",
       "      <th>winery</th>\n",
       "    </tr>\n",
       "  </thead>\n",
       "  <tbody>\n",
       "    <tr>\n",
       "      <th>0</th>\n",
       "      <td>0</td>\n",
       "      <td>Italy</td>\n",
       "      <td>Aromas include tropical fruit, broom, brimston...</td>\n",
       "      <td>Vulkà Bianco</td>\n",
       "      <td>87</td>\n",
       "      <td>NaN</td>\n",
       "      <td>Sicily &amp; Sardinia</td>\n",
       "      <td>Etna</td>\n",
       "      <td>NaN</td>\n",
       "      <td>Kerin O’Keefe</td>\n",
       "      <td>@kerinokeefe</td>\n",
       "      <td>Nicosia 2013 Vulkà Bianco  (Etna)</td>\n",
       "      <td>White Blend</td>\n",
       "      <td>Nicosia</td>\n",
       "    </tr>\n",
       "    <tr>\n",
       "      <th>1</th>\n",
       "      <td>1</td>\n",
       "      <td>Portugal</td>\n",
       "      <td>This is ripe and fruity, a wine that is smooth...</td>\n",
       "      <td>Avidagos</td>\n",
       "      <td>87</td>\n",
       "      <td>15.0</td>\n",
       "      <td>Douro</td>\n",
       "      <td>NaN</td>\n",
       "      <td>NaN</td>\n",
       "      <td>Roger Voss</td>\n",
       "      <td>@vossroger</td>\n",
       "      <td>Quinta dos Avidagos 2011 Avidagos Red (Douro)</td>\n",
       "      <td>Portuguese Red</td>\n",
       "      <td>Quinta dos Avidagos</td>\n",
       "    </tr>\n",
       "    <tr>\n",
       "      <th>2</th>\n",
       "      <td>2</td>\n",
       "      <td>US</td>\n",
       "      <td>Tart and snappy, the flavors of lime flesh and...</td>\n",
       "      <td>NaN</td>\n",
       "      <td>87</td>\n",
       "      <td>14.0</td>\n",
       "      <td>Oregon</td>\n",
       "      <td>Willamette Valley</td>\n",
       "      <td>Willamette Valley</td>\n",
       "      <td>Paul Gregutt</td>\n",
       "      <td>@paulgwine</td>\n",
       "      <td>Rainstorm 2013 Pinot Gris (Willamette Valley)</td>\n",
       "      <td>Pinot Gris</td>\n",
       "      <td>Rainstorm</td>\n",
       "    </tr>\n",
       "    <tr>\n",
       "      <th>3</th>\n",
       "      <td>3</td>\n",
       "      <td>US</td>\n",
       "      <td>Pineapple rind, lemon pith and orange blossom ...</td>\n",
       "      <td>Reserve Late Harvest</td>\n",
       "      <td>87</td>\n",
       "      <td>13.0</td>\n",
       "      <td>Michigan</td>\n",
       "      <td>Lake Michigan Shore</td>\n",
       "      <td>NaN</td>\n",
       "      <td>Alexander Peartree</td>\n",
       "      <td>NaN</td>\n",
       "      <td>St. Julian 2013 Reserve Late Harvest Riesling ...</td>\n",
       "      <td>Riesling</td>\n",
       "      <td>St. Julian</td>\n",
       "    </tr>\n",
       "    <tr>\n",
       "      <th>4</th>\n",
       "      <td>4</td>\n",
       "      <td>US</td>\n",
       "      <td>Much like the regular bottling from 2012, this...</td>\n",
       "      <td>Vintner's Reserve Wild Child Block</td>\n",
       "      <td>87</td>\n",
       "      <td>65.0</td>\n",
       "      <td>Oregon</td>\n",
       "      <td>Willamette Valley</td>\n",
       "      <td>Willamette Valley</td>\n",
       "      <td>Paul Gregutt</td>\n",
       "      <td>@paulgwine</td>\n",
       "      <td>Sweet Cheeks 2012 Vintner's Reserve Wild Child...</td>\n",
       "      <td>Pinot Noir</td>\n",
       "      <td>Sweet Cheeks</td>\n",
       "    </tr>\n",
       "    <tr>\n",
       "      <th>5</th>\n",
       "      <td>5</td>\n",
       "      <td>Spain</td>\n",
       "      <td>Blackberry and raspberry aromas show a typical...</td>\n",
       "      <td>Ars In Vitro</td>\n",
       "      <td>87</td>\n",
       "      <td>15.0</td>\n",
       "      <td>Northern Spain</td>\n",
       "      <td>Navarra</td>\n",
       "      <td>NaN</td>\n",
       "      <td>Michael Schachner</td>\n",
       "      <td>@wineschach</td>\n",
       "      <td>Tandem 2011 Ars In Vitro Tempranillo-Merlot (N...</td>\n",
       "      <td>Tempranillo-Merlot</td>\n",
       "      <td>Tandem</td>\n",
       "    </tr>\n",
       "    <tr>\n",
       "      <th>6</th>\n",
       "      <td>6</td>\n",
       "      <td>Italy</td>\n",
       "      <td>Here's a bright, informal red that opens with ...</td>\n",
       "      <td>Belsito</td>\n",
       "      <td>87</td>\n",
       "      <td>16.0</td>\n",
       "      <td>Sicily &amp; Sardinia</td>\n",
       "      <td>Vittoria</td>\n",
       "      <td>NaN</td>\n",
       "      <td>Kerin O’Keefe</td>\n",
       "      <td>@kerinokeefe</td>\n",
       "      <td>Terre di Giurfo 2013 Belsito Frappato (Vittoria)</td>\n",
       "      <td>Frappato</td>\n",
       "      <td>Terre di Giurfo</td>\n",
       "    </tr>\n",
       "    <tr>\n",
       "      <th>7</th>\n",
       "      <td>7</td>\n",
       "      <td>France</td>\n",
       "      <td>This dry and restrained wine offers spice in p...</td>\n",
       "      <td>NaN</td>\n",
       "      <td>87</td>\n",
       "      <td>24.0</td>\n",
       "      <td>Alsace</td>\n",
       "      <td>Alsace</td>\n",
       "      <td>NaN</td>\n",
       "      <td>Roger Voss</td>\n",
       "      <td>@vossroger</td>\n",
       "      <td>Trimbach 2012 Gewurztraminer (Alsace)</td>\n",
       "      <td>Gewürztraminer</td>\n",
       "      <td>Trimbach</td>\n",
       "    </tr>\n",
       "    <tr>\n",
       "      <th>8</th>\n",
       "      <td>8</td>\n",
       "      <td>Germany</td>\n",
       "      <td>Savory dried thyme notes accent sunnier flavor...</td>\n",
       "      <td>Shine</td>\n",
       "      <td>87</td>\n",
       "      <td>12.0</td>\n",
       "      <td>Rheinhessen</td>\n",
       "      <td>NaN</td>\n",
       "      <td>NaN</td>\n",
       "      <td>Anna Lee C. Iijima</td>\n",
       "      <td>NaN</td>\n",
       "      <td>Heinz Eifel 2013 Shine Gewürztraminer (Rheinhe...</td>\n",
       "      <td>Gewürztraminer</td>\n",
       "      <td>Heinz Eifel</td>\n",
       "    </tr>\n",
       "    <tr>\n",
       "      <th>9</th>\n",
       "      <td>9</td>\n",
       "      <td>France</td>\n",
       "      <td>This has great depth of flavor with its fresh ...</td>\n",
       "      <td>Les Natures</td>\n",
       "      <td>87</td>\n",
       "      <td>27.0</td>\n",
       "      <td>Alsace</td>\n",
       "      <td>Alsace</td>\n",
       "      <td>NaN</td>\n",
       "      <td>Roger Voss</td>\n",
       "      <td>@vossroger</td>\n",
       "      <td>Jean-Baptiste Adam 2012 Les Natures Pinot Gris...</td>\n",
       "      <td>Pinot Gris</td>\n",
       "      <td>Jean-Baptiste Adam</td>\n",
       "    </tr>\n",
       "  </tbody>\n",
       "</table>\n",
       "</div>"
      ],
      "text/plain": [
       "   Unnamed: 0   country                                        description  \\\n",
       "0           0     Italy  Aromas include tropical fruit, broom, brimston...   \n",
       "1           1  Portugal  This is ripe and fruity, a wine that is smooth...   \n",
       "2           2        US  Tart and snappy, the flavors of lime flesh and...   \n",
       "3           3        US  Pineapple rind, lemon pith and orange blossom ...   \n",
       "4           4        US  Much like the regular bottling from 2012, this...   \n",
       "5           5     Spain  Blackberry and raspberry aromas show a typical...   \n",
       "6           6     Italy  Here's a bright, informal red that opens with ...   \n",
       "7           7    France  This dry and restrained wine offers spice in p...   \n",
       "8           8   Germany  Savory dried thyme notes accent sunnier flavor...   \n",
       "9           9    France  This has great depth of flavor with its fresh ...   \n",
       "\n",
       "                          designation  points  price           province  \\\n",
       "0                        Vulkà Bianco      87    NaN  Sicily & Sardinia   \n",
       "1                            Avidagos      87   15.0              Douro   \n",
       "2                                 NaN      87   14.0             Oregon   \n",
       "3                Reserve Late Harvest      87   13.0           Michigan   \n",
       "4  Vintner's Reserve Wild Child Block      87   65.0             Oregon   \n",
       "5                        Ars In Vitro      87   15.0     Northern Spain   \n",
       "6                             Belsito      87   16.0  Sicily & Sardinia   \n",
       "7                                 NaN      87   24.0             Alsace   \n",
       "8                               Shine      87   12.0        Rheinhessen   \n",
       "9                         Les Natures      87   27.0             Alsace   \n",
       "\n",
       "              region_1           region_2         taster_name  \\\n",
       "0                 Etna                NaN       Kerin O’Keefe   \n",
       "1                  NaN                NaN          Roger Voss   \n",
       "2    Willamette Valley  Willamette Valley        Paul Gregutt   \n",
       "3  Lake Michigan Shore                NaN  Alexander Peartree   \n",
       "4    Willamette Valley  Willamette Valley        Paul Gregutt   \n",
       "5              Navarra                NaN   Michael Schachner   \n",
       "6             Vittoria                NaN       Kerin O’Keefe   \n",
       "7               Alsace                NaN          Roger Voss   \n",
       "8                  NaN                NaN  Anna Lee C. Iijima   \n",
       "9               Alsace                NaN          Roger Voss   \n",
       "\n",
       "  taster_twitter_handle                                              title  \\\n",
       "0          @kerinokeefe                  Nicosia 2013 Vulkà Bianco  (Etna)   \n",
       "1            @vossroger      Quinta dos Avidagos 2011 Avidagos Red (Douro)   \n",
       "2           @paulgwine       Rainstorm 2013 Pinot Gris (Willamette Valley)   \n",
       "3                   NaN  St. Julian 2013 Reserve Late Harvest Riesling ...   \n",
       "4           @paulgwine   Sweet Cheeks 2012 Vintner's Reserve Wild Child...   \n",
       "5           @wineschach  Tandem 2011 Ars In Vitro Tempranillo-Merlot (N...   \n",
       "6          @kerinokeefe   Terre di Giurfo 2013 Belsito Frappato (Vittoria)   \n",
       "7            @vossroger              Trimbach 2012 Gewurztraminer (Alsace)   \n",
       "8                   NaN  Heinz Eifel 2013 Shine Gewürztraminer (Rheinhe...   \n",
       "9            @vossroger  Jean-Baptiste Adam 2012 Les Natures Pinot Gris...   \n",
       "\n",
       "              variety               winery  \n",
       "0         White Blend              Nicosia  \n",
       "1      Portuguese Red  Quinta dos Avidagos  \n",
       "2          Pinot Gris            Rainstorm  \n",
       "3            Riesling           St. Julian  \n",
       "4          Pinot Noir         Sweet Cheeks  \n",
       "5  Tempranillo-Merlot               Tandem  \n",
       "6            Frappato      Terre di Giurfo  \n",
       "7      Gewürztraminer             Trimbach  \n",
       "8      Gewürztraminer          Heinz Eifel  \n",
       "9          Pinot Gris   Jean-Baptiste Adam  "
      ]
     },
     "execution_count": 51,
     "metadata": {},
     "output_type": "execute_result"
    }
   ],
   "source": [
    "df.head(10)"
   ]
  },
  {
   "cell_type": "code",
   "execution_count": 52,
   "metadata": {},
   "outputs": [
    {
     "data": {
      "text/plain": [
       "(129971, 14)"
      ]
     },
     "execution_count": 52,
     "metadata": {},
     "output_type": "execute_result"
    }
   ],
   "source": [
    "df.shape"
   ]
  },
  {
   "cell_type": "code",
   "execution_count": 53,
   "metadata": {},
   "outputs": [
    {
     "data": {
      "text/plain": [
       "Unnamed: 0                 int64\n",
       "country                   object\n",
       "description               object\n",
       "designation               object\n",
       "points                     int64\n",
       "price                    float64\n",
       "province                  object\n",
       "region_1                  object\n",
       "region_2                  object\n",
       "taster_name               object\n",
       "taster_twitter_handle     object\n",
       "title                     object\n",
       "variety                   object\n",
       "winery                    object\n",
       "dtype: object"
      ]
     },
     "execution_count": 53,
     "metadata": {},
     "output_type": "execute_result"
    }
   ],
   "source": [
    "df.dtypes"
   ]
  },
  {
   "cell_type": "code",
   "execution_count": 54,
   "metadata": {},
   "outputs": [
    {
     "data": {
      "text/plain": [
       "43"
      ]
     },
     "execution_count": 54,
     "metadata": {},
     "output_type": "execute_result"
    }
   ],
   "source": [
    "df.country.nunique()"
   ]
  },
  {
   "cell_type": "code",
   "execution_count": 55,
   "metadata": {},
   "outputs": [],
   "source": [
    "# wine_types = []\n",
    "# white_wines = ['White', 'Chardonnay', 'Riesling', 'Pinot Grigio', 'Pinot Gris', 'Pinot Blanc', 'Blanc', 'Sauvignon Blanc', 'Gewurztraminer', 'Moscato', 'Muscat']\n",
    "# red_wines = ['Syrah', 'Shiraz', 'Merlot', 'Malbec', 'Cabernet sauvignon', 'Cabernet', 'sauvignon']\n",
    "# rose_wines = []\n",
    "\n",
    "# for name in df.variety:\n",
    "    \n",
    "#     for white_wine_type in white_wines:\n",
    "\n",
    "#         if white_wine_type.lower() in str(name).lower():\n",
    "\n",
    "#             wine_types.append(name)\n",
    "\n",
    "#         else:\n",
    "#             wine_types.append('other')\n",
    "\n",
    "            \n",
    "            \n",
    "# #             for red_wine_type in red_wines:\n",
    "            \n",
    "            \n",
    "# #                 if red_wine_type.lower() in str(name).lower():\n",
    "\n",
    "# #                     wine_types.append(name)\n",
    "\n",
    "# #                 else:\n",
    "\n",
    "# #                     wine_types.append('other')\n",
    "\n",
    "\n",
    "            \n",
    "\n",
    "        "
   ]
  },
  {
   "cell_type": "code",
   "execution_count": 56,
   "metadata": {},
   "outputs": [
    {
     "data": {
      "text/plain": [
       "Index(['Unnamed: 0', 'country', 'description', 'designation', 'points',\n",
       "       'price', 'province', 'region_1', 'region_2', 'taster_name',\n",
       "       'taster_twitter_handle', 'title', 'variety', 'winery'],\n",
       "      dtype='object')"
      ]
     },
     "execution_count": 56,
     "metadata": {},
     "output_type": "execute_result"
    }
   ],
   "source": [
    "df.columns"
   ]
  },
  {
   "cell_type": "code",
   "execution_count": 69,
   "metadata": {},
   "outputs": [],
   "source": [
    "feature_df = df[['country', 'price', 'taster_name', 'points']]"
   ]
  },
  {
   "cell_type": "code",
   "execution_count": 70,
   "metadata": {},
   "outputs": [
    {
     "data": {
      "text/plain": [
       "Index(['country', 'price', 'taster_name', 'points'], dtype='object')"
      ]
     },
     "execution_count": 70,
     "metadata": {},
     "output_type": "execute_result"
    }
   ],
   "source": [
    "feature_df.columns"
   ]
  },
  {
   "cell_type": "code",
   "execution_count": 71,
   "metadata": {},
   "outputs": [
    {
     "data": {
      "text/html": [
       "<div>\n",
       "<style scoped>\n",
       "    .dataframe tbody tr th:only-of-type {\n",
       "        vertical-align: middle;\n",
       "    }\n",
       "\n",
       "    .dataframe tbody tr th {\n",
       "        vertical-align: top;\n",
       "    }\n",
       "\n",
       "    .dataframe thead th {\n",
       "        text-align: right;\n",
       "    }\n",
       "</style>\n",
       "<table border=\"1\" class=\"dataframe\">\n",
       "  <thead>\n",
       "    <tr style=\"text-align: right;\">\n",
       "      <th></th>\n",
       "      <th>country</th>\n",
       "      <th>price</th>\n",
       "      <th>taster_name</th>\n",
       "      <th>points</th>\n",
       "    </tr>\n",
       "  </thead>\n",
       "  <tbody>\n",
       "    <tr>\n",
       "      <th>0</th>\n",
       "      <td>Italy</td>\n",
       "      <td>NaN</td>\n",
       "      <td>Kerin O’Keefe</td>\n",
       "      <td>87</td>\n",
       "    </tr>\n",
       "    <tr>\n",
       "      <th>1</th>\n",
       "      <td>Portugal</td>\n",
       "      <td>15.0</td>\n",
       "      <td>Roger Voss</td>\n",
       "      <td>87</td>\n",
       "    </tr>\n",
       "    <tr>\n",
       "      <th>2</th>\n",
       "      <td>US</td>\n",
       "      <td>14.0</td>\n",
       "      <td>Paul Gregutt</td>\n",
       "      <td>87</td>\n",
       "    </tr>\n",
       "  </tbody>\n",
       "</table>\n",
       "</div>"
      ],
      "text/plain": [
       "    country  price    taster_name  points\n",
       "0     Italy    NaN  Kerin O’Keefe      87\n",
       "1  Portugal   15.0     Roger Voss      87\n",
       "2        US   14.0   Paul Gregutt      87"
      ]
     },
     "execution_count": 71,
     "metadata": {},
     "output_type": "execute_result"
    }
   ],
   "source": [
    "feature_df.head(3)"
   ]
  },
  {
   "cell_type": "code",
   "execution_count": 72,
   "metadata": {},
   "outputs": [],
   "source": [
    "# Import dependencies\n",
    "import pandas as pd\n",
    "import numpy as np\n",
    "from sklearn.preprocessing import LabelEncoder, MinMaxScaler\n",
    "from sklearn.model_selection import train_test_split\n",
    "from keras.utils import to_categorical\n",
    "from xgboost.sklearn import XGBClassifier  \n",
    "import matplotlib.pyplot as plt\n",
    "import seaborn as sns\n",
    "%matplotlib inline"
   ]
  },
  {
   "cell_type": "code",
   "execution_count": 73,
   "metadata": {},
   "outputs": [
    {
     "data": {
      "text/html": [
       "<div>\n",
       "<style scoped>\n",
       "    .dataframe tbody tr th:only-of-type {\n",
       "        vertical-align: middle;\n",
       "    }\n",
       "\n",
       "    .dataframe tbody tr th {\n",
       "        vertical-align: top;\n",
       "    }\n",
       "\n",
       "    .dataframe thead th {\n",
       "        text-align: right;\n",
       "    }\n",
       "</style>\n",
       "<table border=\"1\" class=\"dataframe\">\n",
       "  <thead>\n",
       "    <tr style=\"text-align: right;\">\n",
       "      <th></th>\n",
       "      <th>price</th>\n",
       "      <th>points</th>\n",
       "      <th>country_Argentina</th>\n",
       "      <th>country_Armenia</th>\n",
       "      <th>country_Australia</th>\n",
       "      <th>country_Austria</th>\n",
       "      <th>country_Bosnia and Herzegovina</th>\n",
       "      <th>country_Brazil</th>\n",
       "      <th>country_Bulgaria</th>\n",
       "      <th>country_Canada</th>\n",
       "      <th>...</th>\n",
       "      <th>taster_name_Kerin O’Keefe</th>\n",
       "      <th>taster_name_Lauren Buzzeo</th>\n",
       "      <th>taster_name_Matt Kettmann</th>\n",
       "      <th>taster_name_Michael Schachner</th>\n",
       "      <th>taster_name_Mike DeSimone</th>\n",
       "      <th>taster_name_Paul Gregutt</th>\n",
       "      <th>taster_name_Roger Voss</th>\n",
       "      <th>taster_name_Sean P. Sullivan</th>\n",
       "      <th>taster_name_Susan Kostrzewa</th>\n",
       "      <th>taster_name_Virginie Boone</th>\n",
       "    </tr>\n",
       "  </thead>\n",
       "  <tbody>\n",
       "    <tr>\n",
       "      <th>0</th>\n",
       "      <td>NaN</td>\n",
       "      <td>87</td>\n",
       "      <td>0</td>\n",
       "      <td>0</td>\n",
       "      <td>0</td>\n",
       "      <td>0</td>\n",
       "      <td>0</td>\n",
       "      <td>0</td>\n",
       "      <td>0</td>\n",
       "      <td>0</td>\n",
       "      <td>...</td>\n",
       "      <td>1</td>\n",
       "      <td>0</td>\n",
       "      <td>0</td>\n",
       "      <td>0</td>\n",
       "      <td>0</td>\n",
       "      <td>0</td>\n",
       "      <td>0</td>\n",
       "      <td>0</td>\n",
       "      <td>0</td>\n",
       "      <td>0</td>\n",
       "    </tr>\n",
       "    <tr>\n",
       "      <th>1</th>\n",
       "      <td>15.0</td>\n",
       "      <td>87</td>\n",
       "      <td>0</td>\n",
       "      <td>0</td>\n",
       "      <td>0</td>\n",
       "      <td>0</td>\n",
       "      <td>0</td>\n",
       "      <td>0</td>\n",
       "      <td>0</td>\n",
       "      <td>0</td>\n",
       "      <td>...</td>\n",
       "      <td>0</td>\n",
       "      <td>0</td>\n",
       "      <td>0</td>\n",
       "      <td>0</td>\n",
       "      <td>0</td>\n",
       "      <td>0</td>\n",
       "      <td>1</td>\n",
       "      <td>0</td>\n",
       "      <td>0</td>\n",
       "      <td>0</td>\n",
       "    </tr>\n",
       "    <tr>\n",
       "      <th>2</th>\n",
       "      <td>14.0</td>\n",
       "      <td>87</td>\n",
       "      <td>0</td>\n",
       "      <td>0</td>\n",
       "      <td>0</td>\n",
       "      <td>0</td>\n",
       "      <td>0</td>\n",
       "      <td>0</td>\n",
       "      <td>0</td>\n",
       "      <td>0</td>\n",
       "      <td>...</td>\n",
       "      <td>0</td>\n",
       "      <td>0</td>\n",
       "      <td>0</td>\n",
       "      <td>0</td>\n",
       "      <td>0</td>\n",
       "      <td>1</td>\n",
       "      <td>0</td>\n",
       "      <td>0</td>\n",
       "      <td>0</td>\n",
       "      <td>0</td>\n",
       "    </tr>\n",
       "    <tr>\n",
       "      <th>3</th>\n",
       "      <td>13.0</td>\n",
       "      <td>87</td>\n",
       "      <td>0</td>\n",
       "      <td>0</td>\n",
       "      <td>0</td>\n",
       "      <td>0</td>\n",
       "      <td>0</td>\n",
       "      <td>0</td>\n",
       "      <td>0</td>\n",
       "      <td>0</td>\n",
       "      <td>...</td>\n",
       "      <td>0</td>\n",
       "      <td>0</td>\n",
       "      <td>0</td>\n",
       "      <td>0</td>\n",
       "      <td>0</td>\n",
       "      <td>0</td>\n",
       "      <td>0</td>\n",
       "      <td>0</td>\n",
       "      <td>0</td>\n",
       "      <td>0</td>\n",
       "    </tr>\n",
       "    <tr>\n",
       "      <th>4</th>\n",
       "      <td>65.0</td>\n",
       "      <td>87</td>\n",
       "      <td>0</td>\n",
       "      <td>0</td>\n",
       "      <td>0</td>\n",
       "      <td>0</td>\n",
       "      <td>0</td>\n",
       "      <td>0</td>\n",
       "      <td>0</td>\n",
       "      <td>0</td>\n",
       "      <td>...</td>\n",
       "      <td>0</td>\n",
       "      <td>0</td>\n",
       "      <td>0</td>\n",
       "      <td>0</td>\n",
       "      <td>0</td>\n",
       "      <td>1</td>\n",
       "      <td>0</td>\n",
       "      <td>0</td>\n",
       "      <td>0</td>\n",
       "      <td>0</td>\n",
       "    </tr>\n",
       "  </tbody>\n",
       "</table>\n",
       "<p>5 rows × 64 columns</p>\n",
       "</div>"
      ],
      "text/plain": [
       "   price  points  country_Argentina  country_Armenia  country_Australia  \\\n",
       "0    NaN      87                  0                0                  0   \n",
       "1   15.0      87                  0                0                  0   \n",
       "2   14.0      87                  0                0                  0   \n",
       "3   13.0      87                  0                0                  0   \n",
       "4   65.0      87                  0                0                  0   \n",
       "\n",
       "   country_Austria  country_Bosnia and Herzegovina  country_Brazil  \\\n",
       "0                0                               0               0   \n",
       "1                0                               0               0   \n",
       "2                0                               0               0   \n",
       "3                0                               0               0   \n",
       "4                0                               0               0   \n",
       "\n",
       "   country_Bulgaria  country_Canada  ...  taster_name_Kerin O’Keefe  \\\n",
       "0                 0               0  ...                          1   \n",
       "1                 0               0  ...                          0   \n",
       "2                 0               0  ...                          0   \n",
       "3                 0               0  ...                          0   \n",
       "4                 0               0  ...                          0   \n",
       "\n",
       "   taster_name_Lauren Buzzeo  taster_name_Matt Kettmann  \\\n",
       "0                          0                          0   \n",
       "1                          0                          0   \n",
       "2                          0                          0   \n",
       "3                          0                          0   \n",
       "4                          0                          0   \n",
       "\n",
       "   taster_name_Michael Schachner  taster_name_Mike DeSimone  \\\n",
       "0                              0                          0   \n",
       "1                              0                          0   \n",
       "2                              0                          0   \n",
       "3                              0                          0   \n",
       "4                              0                          0   \n",
       "\n",
       "   taster_name_Paul Gregutt  taster_name_Roger Voss  \\\n",
       "0                         0                       0   \n",
       "1                         0                       1   \n",
       "2                         1                       0   \n",
       "3                         0                       0   \n",
       "4                         1                       0   \n",
       "\n",
       "   taster_name_Sean P. Sullivan  taster_name_Susan Kostrzewa  \\\n",
       "0                             0                            0   \n",
       "1                             0                            0   \n",
       "2                             0                            0   \n",
       "3                             0                            0   \n",
       "4                             0                            0   \n",
       "\n",
       "   taster_name_Virginie Boone  \n",
       "0                           0  \n",
       "1                           0  \n",
       "2                           0  \n",
       "3                           0  \n",
       "4                           0  \n",
       "\n",
       "[5 rows x 64 columns]"
      ]
     },
     "execution_count": 73,
     "metadata": {},
     "output_type": "execute_result"
    }
   ],
   "source": [
    "# Encode the target for the train and test set so it can be fed into our NN and conver to a vector and check it\n",
    "data = feature_df.copy()\n",
    "\n",
    "data_binary_encoded = pd.get_dummies(data, columns=[\"country\", \"taster_name\"])\n",
    "data_binary_encoded.head()"
   ]
  },
  {
   "cell_type": "code",
   "execution_count": 74,
   "metadata": {},
   "outputs": [
    {
     "data": {
      "text/plain": [
       "price                             float64\n",
       "points                              int64\n",
       "country_Argentina                   uint8\n",
       "country_Armenia                     uint8\n",
       "country_Australia                   uint8\n",
       "country_Austria                     uint8\n",
       "country_Bosnia and Herzegovina      uint8\n",
       "country_Brazil                      uint8\n",
       "country_Bulgaria                    uint8\n",
       "country_Canada                      uint8\n",
       "country_Chile                       uint8\n",
       "country_China                       uint8\n",
       "country_Croatia                     uint8\n",
       "country_Cyprus                      uint8\n",
       "country_Czech Republic              uint8\n",
       "country_Egypt                       uint8\n",
       "country_England                     uint8\n",
       "country_France                      uint8\n",
       "country_Georgia                     uint8\n",
       "country_Germany                     uint8\n",
       "country_Greece                      uint8\n",
       "country_Hungary                     uint8\n",
       "country_India                       uint8\n",
       "country_Israel                      uint8\n",
       "country_Italy                       uint8\n",
       "country_Lebanon                     uint8\n",
       "country_Luxembourg                  uint8\n",
       "country_Macedonia                   uint8\n",
       "country_Mexico                      uint8\n",
       "country_Moldova                     uint8\n",
       "                                   ...   \n",
       "country_Romania                     uint8\n",
       "country_Serbia                      uint8\n",
       "country_Slovakia                    uint8\n",
       "country_Slovenia                    uint8\n",
       "country_South Africa                uint8\n",
       "country_Spain                       uint8\n",
       "country_Switzerland                 uint8\n",
       "country_Turkey                      uint8\n",
       "country_US                          uint8\n",
       "country_Ukraine                     uint8\n",
       "country_Uruguay                     uint8\n",
       "taster_name_Alexander Peartree      uint8\n",
       "taster_name_Anna Lee C. Iijima      uint8\n",
       "taster_name_Anne Krebiehl MW        uint8\n",
       "taster_name_Carrie Dykes            uint8\n",
       "taster_name_Christina Pickard       uint8\n",
       "taster_name_Fiona Adams             uint8\n",
       "taster_name_Jeff Jenssen            uint8\n",
       "taster_name_Jim Gordon              uint8\n",
       "taster_name_Joe Czerwinski          uint8\n",
       "taster_name_Kerin O’Keefe           uint8\n",
       "taster_name_Lauren Buzzeo           uint8\n",
       "taster_name_Matt Kettmann           uint8\n",
       "taster_name_Michael Schachner       uint8\n",
       "taster_name_Mike DeSimone           uint8\n",
       "taster_name_Paul Gregutt            uint8\n",
       "taster_name_Roger Voss              uint8\n",
       "taster_name_Sean P. Sullivan        uint8\n",
       "taster_name_Susan Kostrzewa         uint8\n",
       "taster_name_Virginie Boone          uint8\n",
       "Length: 64, dtype: object"
      ]
     },
     "execution_count": 74,
     "metadata": {},
     "output_type": "execute_result"
    }
   ],
   "source": [
    "data_binary_encoded.dtypes"
   ]
  },
  {
   "cell_type": "code",
   "execution_count": 78,
   "metadata": {},
   "outputs": [
    {
     "data": {
      "text/plain": [
       "129971"
      ]
     },
     "execution_count": 78,
     "metadata": {},
     "output_type": "execute_result"
    }
   ],
   "source": [
    "len(data_binary_encoded)"
   ]
  },
  {
   "cell_type": "code",
   "execution_count": 79,
   "metadata": {},
   "outputs": [
    {
     "data": {
      "text/plain": [
       "120975"
      ]
     },
     "execution_count": 79,
     "metadata": {},
     "output_type": "execute_result"
    }
   ],
   "source": [
    "clean_feaures_target = data_binary_encoded.dropna()\n",
    "\n",
    "len(clean_feaures)"
   ]
  },
  {
   "cell_type": "code",
   "execution_count": 80,
   "metadata": {},
   "outputs": [],
   "source": [
    "final_targets_df = clean_feaures_target['points']\n",
    "\n",
    "final_features_df = clean_feaures_target.drop('points', axis=1)"
   ]
  },
  {
   "cell_type": "code",
   "execution_count": 81,
   "metadata": {},
   "outputs": [
    {
     "name": "stdout",
     "output_type": "stream",
     "text": [
      "120975 120975\n"
     ]
    }
   ],
   "source": [
    "print(len(final_targets_df), len(final_features_df))"
   ]
  },
  {
   "cell_type": "code",
   "execution_count": 83,
   "metadata": {},
   "outputs": [
    {
     "name": "stdout",
     "output_type": "stream",
     "text": [
      "(120975,) (120975, 63)\n"
     ]
    }
   ],
   "source": [
    "print(final_targets_df.shape, final_features_df.shape)"
   ]
  },
  {
   "cell_type": "code",
   "execution_count": 84,
   "metadata": {},
   "outputs": [],
   "source": [
    "raw_features = final_features_df.values\n",
    "\n",
    "raw_target = final_targets_df.values"
   ]
  },
  {
   "cell_type": "code",
   "execution_count": 85,
   "metadata": {},
   "outputs": [],
   "source": [
    "X = raw_features[:, 0:63]\n",
    "\n",
    "y = raw_target.reshape(-1, 1)"
   ]
  },
  {
   "cell_type": "code",
   "execution_count": 86,
   "metadata": {},
   "outputs": [
    {
     "data": {
      "text/plain": [
       "(120975, 63)"
      ]
     },
     "execution_count": 86,
     "metadata": {},
     "output_type": "execute_result"
    }
   ],
   "source": [
    "X.shape"
   ]
  },
  {
   "cell_type": "code",
   "execution_count": 88,
   "metadata": {},
   "outputs": [
    {
     "data": {
      "text/plain": [
       "(120975, 1)"
      ]
     },
     "execution_count": 88,
     "metadata": {},
     "output_type": "execute_result"
    }
   ],
   "source": [
    "y.shape"
   ]
  },
  {
   "cell_type": "code",
   "execution_count": 89,
   "metadata": {},
   "outputs": [],
   "source": [
    "# Create the train and test sets for the features and target\n",
    "X_train, X_test, y_train, y_test = train_test_split(X, y, random_state=42)"
   ]
  },
  {
   "cell_type": "code",
   "execution_count": 90,
   "metadata": {},
   "outputs": [],
   "source": [
    "# Scale the features using the MinMax scaler since we know their values\n",
    "from sklearn.preprocessing import LabelEncoder, MinMaxScaler\n",
    "\n",
    "X_scaler = MinMaxScaler().fit(X_train)\n",
    "X_train_scaled = X_scaler.transform(X_train)\n",
    "X_test_scaled = X_scaler.transform(X_test)\n",
    "\n",
    "y_scaler = MinMaxScaler().fit(y_train)\n",
    "y_train_scaled = y_scaler.transform(y_train)\n",
    "y_test_scaled = y_scaler.transform(y_test)"
   ]
  },
  {
   "cell_type": "code",
   "execution_count": 93,
   "metadata": {},
   "outputs": [
    {
     "name": "stdout",
     "output_type": "stream",
     "text": [
      "[14:15:37] WARNING: C:/Jenkins/workspace/xgboost-win64_release_0.90/src/objective/regression_obj.cu:152: reg:linear is now deprecated in favor of reg:squarederror.\n"
     ]
    },
    {
     "data": {
      "text/plain": [
       "XGBRegressor(base_score=0.5, booster='gbtree', colsample_bylevel=1,\n",
       "             colsample_bynode=1, colsample_bytree=1, gamma=0,\n",
       "             importance_type='gain', learning_rate=0.1, max_delta_step=0,\n",
       "             max_depth=3, min_child_weight=1, missing=None, n_estimators=300,\n",
       "             n_jobs=-1, nthread=None, objective='reg:linear', random_state=0,\n",
       "             reg_alpha=0, reg_lambda=1, scale_pos_weight=1, seed=None,\n",
       "             silent=None, subsample=1, verbose=2, verbosity=1)"
      ]
     },
     "execution_count": 93,
     "metadata": {},
     "output_type": "execute_result"
    }
   ],
   "source": [
    "# Create and fit XGB gradient boosting model to start the automated feature selection\n",
    "from xgboost.sklearn import XGBRegressor\n",
    "\n",
    "feature_selection_model = XGBRegressor(n_estimators=300, n_jobs=-1,verbose=2)\n",
    "\n",
    "feature_selection_model.fit(X_train_scaled, y_train_scaled)"
   ]
  },
  {
   "cell_type": "code",
   "execution_count": 94,
   "metadata": {},
   "outputs": [
    {
     "data": {
      "text/plain": [
       "63"
      ]
     },
     "execution_count": 94,
     "metadata": {},
     "output_type": "execute_result"
    }
   ],
   "source": [
    "# Run the feature importance function of the XGB Classifier to rank our features\n",
    "feature_importance = feature_selection_model.feature_importances_\n",
    "\n",
    "len(feature_importance)"
   ]
  },
  {
   "cell_type": "code",
   "execution_count": 95,
   "metadata": {},
   "outputs": [
    {
     "data": {
      "text/plain": [
       "array([0.1634994 , 0.00839369, 0.        , 0.00553145, 0.02178929,\n",
       "       0.        , 0.00761735, 0.00494798, 0.00103753, 0.00540666,\n",
       "       0.        , 0.00499357, 0.00095521, 0.00146286, 0.        ,\n",
       "       0.00165163, 0.00678735, 0.00282994, 0.04997069, 0.01276265,\n",
       "       0.00231504, 0.00200988, 0.00726672, 0.00684416, 0.0046398 ,\n",
       "       0.        , 0.        , 0.00806335, 0.        , 0.        ,\n",
       "       0.00124367, 0.00357716, 0.04893274, 0.00400469, 0.00110226,\n",
       "       0.        , 0.00277922, 0.00375636, 0.00187737, 0.00098865,\n",
       "       0.00366501, 0.04104001, 0.0020535 , 0.00288459, 0.05373125,\n",
       "       0.00931622, 0.1335056 , 0.00881572, 0.        , 0.00166503,\n",
       "       0.00940571, 0.02808752, 0.01120134, 0.02124859, 0.00389351,\n",
       "       0.05658646, 0.10444345, 0.01295177, 0.03400433, 0.01273948,\n",
       "       0.01822218, 0.01721065, 0.01428973], dtype=float32)"
      ]
     },
     "execution_count": 95,
     "metadata": {},
     "output_type": "execute_result"
    }
   ],
   "source": [
    "feature_importance"
   ]
  },
  {
   "cell_type": "code",
   "execution_count": 96,
   "metadata": {},
   "outputs": [
    {
     "data": {
      "text/plain": [
       "63"
      ]
     },
     "execution_count": 96,
     "metadata": {},
     "output_type": "execute_result"
    }
   ],
   "source": [
    "# Create a list of the reature names to use below in our charting and check lenghth \n",
    "feature_names = final_features_df.columns.tolist()\n",
    "\n",
    "\n",
    "\n",
    "len(feature_names)"
   ]
  },
  {
   "cell_type": "code",
   "execution_count": 97,
   "metadata": {},
   "outputs": [
    {
     "data": {
      "text/plain": [
       "['price',\n",
       " 'country_Argentina',\n",
       " 'country_Armenia',\n",
       " 'country_Australia',\n",
       " 'country_Austria',\n",
       " 'country_Bosnia and Herzegovina',\n",
       " 'country_Brazil',\n",
       " 'country_Bulgaria',\n",
       " 'country_Canada',\n",
       " 'country_Chile',\n",
       " 'country_China',\n",
       " 'country_Croatia',\n",
       " 'country_Cyprus',\n",
       " 'country_Czech Republic',\n",
       " 'country_Egypt',\n",
       " 'country_England',\n",
       " 'country_France',\n",
       " 'country_Georgia',\n",
       " 'country_Germany',\n",
       " 'country_Greece',\n",
       " 'country_Hungary',\n",
       " 'country_India',\n",
       " 'country_Israel',\n",
       " 'country_Italy',\n",
       " 'country_Lebanon',\n",
       " 'country_Luxembourg',\n",
       " 'country_Macedonia',\n",
       " 'country_Mexico',\n",
       " 'country_Moldova',\n",
       " 'country_Morocco',\n",
       " 'country_New Zealand',\n",
       " 'country_Peru',\n",
       " 'country_Portugal',\n",
       " 'country_Romania',\n",
       " 'country_Serbia',\n",
       " 'country_Slovakia',\n",
       " 'country_Slovenia',\n",
       " 'country_South Africa',\n",
       " 'country_Spain',\n",
       " 'country_Switzerland',\n",
       " 'country_Turkey',\n",
       " 'country_US',\n",
       " 'country_Ukraine',\n",
       " 'country_Uruguay',\n",
       " 'taster_name_Alexander Peartree',\n",
       " 'taster_name_Anna Lee C. Iijima',\n",
       " 'taster_name_Anne Krebiehl\\xa0MW',\n",
       " 'taster_name_Carrie Dykes',\n",
       " 'taster_name_Christina Pickard',\n",
       " 'taster_name_Fiona Adams',\n",
       " 'taster_name_Jeff Jenssen',\n",
       " 'taster_name_Jim Gordon',\n",
       " 'taster_name_Joe Czerwinski',\n",
       " 'taster_name_Kerin O’Keefe',\n",
       " 'taster_name_Lauren Buzzeo',\n",
       " 'taster_name_Matt Kettmann',\n",
       " 'taster_name_Michael Schachner',\n",
       " 'taster_name_Mike DeSimone',\n",
       " 'taster_name_Paul Gregutt',\n",
       " 'taster_name_Roger Voss',\n",
       " 'taster_name_Sean P. Sullivan',\n",
       " 'taster_name_Susan Kostrzewa',\n",
       " 'taster_name_Virginie Boone']"
      ]
     },
     "execution_count": 97,
     "metadata": {},
     "output_type": "execute_result"
    }
   ],
   "source": [
    "# Check list\n",
    "feature_names"
   ]
  },
  {
   "cell_type": "code",
   "execution_count": 98,
   "metadata": {},
   "outputs": [],
   "source": [
    "# plt.bar(range(len(feature_selection_model.feature_importances_)), feature_selection_model.feature_importances_)\n",
    "# plt.show()"
   ]
  },
  {
   "cell_type": "code",
   "execution_count": 99,
   "metadata": {},
   "outputs": [],
   "source": [
    "# from xgboost import plot_importance\n",
    "\n",
    "\n",
    "# plot_importance(feature_selection_model)\n",
    "\n",
    "# plt.show()"
   ]
  },
  {
   "cell_type": "code",
   "execution_count": null,
   "metadata": {},
   "outputs": [],
   "source": []
  },
  {
   "cell_type": "code",
   "execution_count": 100,
   "metadata": {},
   "outputs": [
    {
     "data": {
      "image/png": "[encoded data removed]",
      "text/plain": [
       "<Figure size 1152x432 with 1 Axes>"
      ]
     },
     "metadata": {
      "needs_background": "light"
     },
     "output_type": "display_data"
    }
   ],
   "source": [
    "# Plot the figire and inspect the top features\n",
    "plt.figure(figsize=(16, 6))\n",
    "plt.yscale('log', nonposy='clip')\n",
    "plt.bar(range(len(feature_importance)), feature_importance, align='center')\n",
    "plt.xticks(range(len(feature_importance)), feature_names, rotation='vertical')\n",
    "plt.title('Feature importance')\n",
    "plt.ylabel('Importance')\n",
    "plt.xlabel('Features')\n",
    "plt.show()"
   ]
  },
  {
   "cell_type": "code",
   "execution_count": null,
   "metadata": {},
   "outputs": [],
   "source": []
  },
  {
   "cell_type": "code",
   "execution_count": null,
   "metadata": {},
   "outputs": [],
   "source": []
  },
  {
   "cell_type": "code",
   "execution_count": 106,
   "metadata": {},
   "outputs": [
    {
     "data": {
      "text/plain": [
       "Index(['price', 'country_Argentina', 'country_Armenia', 'country_Australia',\n",
       "       'country_Austria', 'country_Bosnia and Herzegovina', 'country_Brazil',\n",
       "       'country_Bulgaria', 'country_Canada', 'country_Chile', 'country_China',\n",
       "       'country_Croatia', 'country_Cyprus', 'country_Czech Republic',\n",
       "       'country_Egypt', 'country_England', 'country_France', 'country_Georgia',\n",
       "       'country_Germany', 'country_Greece', 'country_Hungary', 'country_India',\n",
       "       'country_Israel', 'country_Italy', 'country_Lebanon',\n",
       "       'country_Luxembourg', 'country_Macedonia', 'country_Mexico',\n",
       "       'country_Moldova', 'country_Morocco', 'country_New Zealand',\n",
       "       'country_Peru', 'country_Portugal', 'country_Romania', 'country_Serbia',\n",
       "       'country_Slovakia', 'country_Slovenia', 'country_South Africa',\n",
       "       'country_Spain', 'country_Switzerland', 'country_Turkey', 'country_US',\n",
       "       'country_Ukraine', 'country_Uruguay', 'taster_name_Alexander Peartree',\n",
       "       'taster_name_Anna Lee C. Iijima', 'taster_name_Anne Krebiehl MW',\n",
       "       'taster_name_Carrie Dykes', 'taster_name_Christina Pickard',\n",
       "       'taster_name_Fiona Adams', 'taster_name_Jeff Jenssen',\n",
       "       'taster_name_Jim Gordon', 'taster_name_Joe Czerwinski',\n",
       "       'taster_name_Kerin O’Keefe', 'taster_name_Lauren Buzzeo',\n",
       "       'taster_name_Matt Kettmann', 'taster_name_Michael Schachner',\n",
       "       'taster_name_Mike DeSimone', 'taster_name_Paul Gregutt',\n",
       "       'taster_name_Roger Voss', 'taster_name_Sean P. Sullivan',\n",
       "       'taster_name_Susan Kostrzewa', 'taster_name_Virginie Boone'],\n",
       "      dtype='object')"
      ]
     },
     "execution_count": 106,
     "metadata": {},
     "output_type": "execute_result"
    }
   ],
   "source": [
    "final_features_df.columns"
   ]
  },
  {
   "cell_type": "code",
   "execution_count": 110,
   "metadata": {},
   "outputs": [
    {
     "data": {
      "text/html": [
       "<div>\n",
       "<style scoped>\n",
       "    .dataframe tbody tr th:only-of-type {\n",
       "        vertical-align: middle;\n",
       "    }\n",
       "\n",
       "    .dataframe tbody tr th {\n",
       "        vertical-align: top;\n",
       "    }\n",
       "\n",
       "    .dataframe thead th {\n",
       "        text-align: right;\n",
       "    }\n",
       "</style>\n",
       "<table border=\"1\" class=\"dataframe\">\n",
       "  <thead>\n",
       "    <tr style=\"text-align: right;\">\n",
       "      <th></th>\n",
       "      <th>price</th>\n",
       "      <th>country_Australia</th>\n",
       "      <th>points</th>\n",
       "      <th>country_Austria</th>\n",
       "      <th>country_Portugal</th>\n",
       "      <th>country_US</th>\n",
       "      <th>taster_name_Alexander Peartree</th>\n",
       "      <th>taster_name_Matt Kettmann</th>\n",
       "      <th>taster_name_Michael Schachner</th>\n",
       "      <th>taster_name_Paul Gregutt</th>\n",
       "    </tr>\n",
       "  </thead>\n",
       "  <tbody>\n",
       "    <tr>\n",
       "      <th>1</th>\n",
       "      <td>15.0</td>\n",
       "      <td>0</td>\n",
       "      <td>87</td>\n",
       "      <td>0</td>\n",
       "      <td>1</td>\n",
       "      <td>0</td>\n",
       "      <td>0</td>\n",
       "      <td>0</td>\n",
       "      <td>0</td>\n",
       "      <td>0</td>\n",
       "    </tr>\n",
       "    <tr>\n",
       "      <th>2</th>\n",
       "      <td>14.0</td>\n",
       "      <td>0</td>\n",
       "      <td>87</td>\n",
       "      <td>0</td>\n",
       "      <td>0</td>\n",
       "      <td>1</td>\n",
       "      <td>0</td>\n",
       "      <td>0</td>\n",
       "      <td>0</td>\n",
       "      <td>1</td>\n",
       "    </tr>\n",
       "    <tr>\n",
       "      <th>3</th>\n",
       "      <td>13.0</td>\n",
       "      <td>0</td>\n",
       "      <td>87</td>\n",
       "      <td>0</td>\n",
       "      <td>0</td>\n",
       "      <td>1</td>\n",
       "      <td>1</td>\n",
       "      <td>0</td>\n",
       "      <td>0</td>\n",
       "      <td>0</td>\n",
       "    </tr>\n",
       "    <tr>\n",
       "      <th>4</th>\n",
       "      <td>65.0</td>\n",
       "      <td>0</td>\n",
       "      <td>87</td>\n",
       "      <td>0</td>\n",
       "      <td>0</td>\n",
       "      <td>1</td>\n",
       "      <td>0</td>\n",
       "      <td>0</td>\n",
       "      <td>0</td>\n",
       "      <td>1</td>\n",
       "    </tr>\n",
       "    <tr>\n",
       "      <th>5</th>\n",
       "      <td>15.0</td>\n",
       "      <td>0</td>\n",
       "      <td>87</td>\n",
       "      <td>0</td>\n",
       "      <td>0</td>\n",
       "      <td>0</td>\n",
       "      <td>0</td>\n",
       "      <td>0</td>\n",
       "      <td>1</td>\n",
       "      <td>0</td>\n",
       "    </tr>\n",
       "  </tbody>\n",
       "</table>\n",
       "</div>"
      ],
      "text/plain": [
       "   price  country_Australia  points  country_Austria  country_Portugal  \\\n",
       "1   15.0                  0      87                0                 1   \n",
       "2   14.0                  0      87                0                 0   \n",
       "3   13.0                  0      87                0                 0   \n",
       "4   65.0                  0      87                0                 0   \n",
       "5   15.0                  0      87                0                 0   \n",
       "\n",
       "   country_US  taster_name_Alexander Peartree  taster_name_Matt Kettmann  \\\n",
       "1           0                               0                          0   \n",
       "2           1                               0                          0   \n",
       "3           1                               1                          0   \n",
       "4           1                               0                          0   \n",
       "5           0                               0                          0   \n",
       "\n",
       "   taster_name_Michael Schachner  taster_name_Paul Gregutt  \n",
       "1                              0                         0  \n",
       "2                              0                         1  \n",
       "3                              0                         0  \n",
       "4                              0                         1  \n",
       "5                              1                         0  "
      ]
     },
     "execution_count": 110,
     "metadata": {},
     "output_type": "execute_result"
    }
   ],
   "source": [
    "# Create df for correlation matrix to see which variable are most corrleated to the koi_disposition target\n",
    "top_features_df = clean_feaures_target[['price', 'country_Australia', 'points',\n",
    "       'country_Austria','country_Portugal', 'country_US', 'taster_name_Alexander Peartree', 'taster_name_Matt Kettmann', 'taster_name_Michael Schachner','taster_name_Paul Gregutt']]\n",
    "\n",
    "top_features_df.head()"
   ]
  },
  {
   "cell_type": "code",
   "execution_count": 111,
   "metadata": {},
   "outputs": [
    {
     "data": {
      "text/html": [
       "<div>\n",
       "<style scoped>\n",
       "    .dataframe tbody tr th:only-of-type {\n",
       "        vertical-align: middle;\n",
       "    }\n",
       "\n",
       "    .dataframe tbody tr th {\n",
       "        vertical-align: top;\n",
       "    }\n",
       "\n",
       "    .dataframe thead th {\n",
       "        text-align: right;\n",
       "    }\n",
       "</style>\n",
       "<table border=\"1\" class=\"dataframe\">\n",
       "  <thead>\n",
       "    <tr style=\"text-align: right;\">\n",
       "      <th></th>\n",
       "      <th>price</th>\n",
       "      <th>country_Australia</th>\n",
       "      <th>points</th>\n",
       "      <th>country_Austria</th>\n",
       "      <th>country_Portugal</th>\n",
       "      <th>country_US</th>\n",
       "      <th>taster_name_Alexander Peartree</th>\n",
       "      <th>taster_name_Matt Kettmann</th>\n",
       "      <th>taster_name_Michael Schachner</th>\n",
       "      <th>taster_name_Paul Gregutt</th>\n",
       "    </tr>\n",
       "  </thead>\n",
       "  <tbody>\n",
       "    <tr>\n",
       "      <th>price</th>\n",
       "      <td>NaN</td>\n",
       "      <td>0.000252</td>\n",
       "      <td>0.416167</td>\n",
       "      <td>-0.017260</td>\n",
       "      <td>-0.045682</td>\n",
       "      <td>0.026605</td>\n",
       "      <td>-0.009003</td>\n",
       "      <td>0.018635</td>\n",
       "      <td>-0.092751</td>\n",
       "      <td>-0.012228</td>\n",
       "    </tr>\n",
       "    <tr>\n",
       "      <th>country_Australia</th>\n",
       "      <td>NaN</td>\n",
       "      <td>NaN</td>\n",
       "      <td>0.007927</td>\n",
       "      <td>-0.021397</td>\n",
       "      <td>-0.028489</td>\n",
       "      <td>-0.125392</td>\n",
       "      <td>-0.008137</td>\n",
       "      <td>-0.032415</td>\n",
       "      <td>-0.052208</td>\n",
       "      <td>-0.040582</td>\n",
       "    </tr>\n",
       "    <tr>\n",
       "      <th>points</th>\n",
       "      <td>NaN</td>\n",
       "      <td>NaN</td>\n",
       "      <td>NaN</td>\n",
       "      <td>0.089418</td>\n",
       "      <td>-0.007078</td>\n",
       "      <td>0.042809</td>\n",
       "      <td>-0.049352</td>\n",
       "      <td>0.123456</td>\n",
       "      <td>-0.186575</td>\n",
       "      <td>0.063806</td>\n",
       "    </tr>\n",
       "    <tr>\n",
       "      <th>country_Austria</th>\n",
       "      <td>NaN</td>\n",
       "      <td>NaN</td>\n",
       "      <td>NaN</td>\n",
       "      <td>NaN</td>\n",
       "      <td>-0.031536</td>\n",
       "      <td>-0.138804</td>\n",
       "      <td>-0.009008</td>\n",
       "      <td>-0.035882</td>\n",
       "      <td>-0.057792</td>\n",
       "      <td>-0.044922</td>\n",
       "    </tr>\n",
       "    <tr>\n",
       "      <th>country_Portugal</th>\n",
       "      <td>NaN</td>\n",
       "      <td>NaN</td>\n",
       "      <td>NaN</td>\n",
       "      <td>NaN</td>\n",
       "      <td>NaN</td>\n",
       "      <td>-0.184814</td>\n",
       "      <td>-0.011993</td>\n",
       "      <td>-0.047776</td>\n",
       "      <td>-0.075800</td>\n",
       "      <td>-0.059813</td>\n",
       "    </tr>\n",
       "    <tr>\n",
       "      <th>country_US</th>\n",
       "      <td>NaN</td>\n",
       "      <td>NaN</td>\n",
       "      <td>NaN</td>\n",
       "      <td>NaN</td>\n",
       "      <td>NaN</td>\n",
       "      <td>NaN</td>\n",
       "      <td>0.064894</td>\n",
       "      <td>0.258430</td>\n",
       "      <td>-0.335101</td>\n",
       "      <td>0.309611</td>\n",
       "    </tr>\n",
       "    <tr>\n",
       "      <th>taster_name_Alexander Peartree</th>\n",
       "      <td>NaN</td>\n",
       "      <td>NaN</td>\n",
       "      <td>NaN</td>\n",
       "      <td>NaN</td>\n",
       "      <td>NaN</td>\n",
       "      <td>NaN</td>\n",
       "      <td>NaN</td>\n",
       "      <td>-0.013646</td>\n",
       "      <td>-0.021979</td>\n",
       "      <td>-0.017084</td>\n",
       "    </tr>\n",
       "    <tr>\n",
       "      <th>taster_name_Matt Kettmann</th>\n",
       "      <td>NaN</td>\n",
       "      <td>NaN</td>\n",
       "      <td>NaN</td>\n",
       "      <td>NaN</td>\n",
       "      <td>NaN</td>\n",
       "      <td>NaN</td>\n",
       "      <td>NaN</td>\n",
       "      <td>NaN</td>\n",
       "      <td>-0.087552</td>\n",
       "      <td>-0.068055</td>\n",
       "    </tr>\n",
       "    <tr>\n",
       "      <th>taster_name_Michael Schachner</th>\n",
       "      <td>NaN</td>\n",
       "      <td>NaN</td>\n",
       "      <td>NaN</td>\n",
       "      <td>NaN</td>\n",
       "      <td>NaN</td>\n",
       "      <td>NaN</td>\n",
       "      <td>NaN</td>\n",
       "      <td>NaN</td>\n",
       "      <td>NaN</td>\n",
       "      <td>-0.109612</td>\n",
       "    </tr>\n",
       "    <tr>\n",
       "      <th>taster_name_Paul Gregutt</th>\n",
       "      <td>NaN</td>\n",
       "      <td>NaN</td>\n",
       "      <td>NaN</td>\n",
       "      <td>NaN</td>\n",
       "      <td>NaN</td>\n",
       "      <td>NaN</td>\n",
       "      <td>NaN</td>\n",
       "      <td>NaN</td>\n",
       "      <td>NaN</td>\n",
       "      <td>NaN</td>\n",
       "    </tr>\n",
       "  </tbody>\n",
       "</table>\n",
       "</div>"
      ],
      "text/plain": [
       "                                price  country_Australia    points  \\\n",
       "price                             NaN           0.000252  0.416167   \n",
       "country_Australia                 NaN                NaN  0.007927   \n",
       "points                            NaN                NaN       NaN   \n",
       "country_Austria                   NaN                NaN       NaN   \n",
       "country_Portugal                  NaN                NaN       NaN   \n",
       "country_US                        NaN                NaN       NaN   \n",
       "taster_name_Alexander Peartree    NaN                NaN       NaN   \n",
       "taster_name_Matt Kettmann         NaN                NaN       NaN   \n",
       "taster_name_Michael Schachner     NaN                NaN       NaN   \n",
       "taster_name_Paul Gregutt          NaN                NaN       NaN   \n",
       "\n",
       "                                country_Austria  country_Portugal  country_US  \\\n",
       "price                                 -0.017260         -0.045682    0.026605   \n",
       "country_Australia                     -0.021397         -0.028489   -0.125392   \n",
       "points                                 0.089418         -0.007078    0.042809   \n",
       "country_Austria                             NaN         -0.031536   -0.138804   \n",
       "country_Portugal                            NaN               NaN   -0.184814   \n",
       "country_US                                  NaN               NaN         NaN   \n",
       "taster_name_Alexander Peartree              NaN               NaN         NaN   \n",
       "taster_name_Matt Kettmann                   NaN               NaN         NaN   \n",
       "taster_name_Michael Schachner               NaN               NaN         NaN   \n",
       "taster_name_Paul Gregutt                    NaN               NaN         NaN   \n",
       "\n",
       "                                taster_name_Alexander Peartree  \\\n",
       "price                                                -0.009003   \n",
       "country_Australia                                    -0.008137   \n",
       "points                                               -0.049352   \n",
       "country_Austria                                      -0.009008   \n",
       "country_Portugal                                     -0.011993   \n",
       "country_US                                            0.064894   \n",
       "taster_name_Alexander Peartree                             NaN   \n",
       "taster_name_Matt Kettmann                                  NaN   \n",
       "taster_name_Michael Schachner                              NaN   \n",
       "taster_name_Paul Gregutt                                   NaN   \n",
       "\n",
       "                                taster_name_Matt Kettmann  \\\n",
       "price                                            0.018635   \n",
       "country_Australia                               -0.032415   \n",
       "points                                           0.123456   \n",
       "country_Austria                                 -0.035882   \n",
       "country_Portugal                                -0.047776   \n",
       "country_US                                       0.258430   \n",
       "taster_name_Alexander Peartree                  -0.013646   \n",
       "taster_name_Matt Kettmann                             NaN   \n",
       "taster_name_Michael Schachner                         NaN   \n",
       "taster_name_Paul Gregutt                              NaN   \n",
       "\n",
       "                                taster_name_Michael Schachner  \\\n",
       "price                                               -0.092751   \n",
       "country_Australia                                   -0.052208   \n",
       "points                                              -0.186575   \n",
       "country_Austria                                     -0.057792   \n",
       "country_Portugal                                    -0.075800   \n",
       "country_US                                          -0.335101   \n",
       "taster_name_Alexander Peartree                      -0.021979   \n",
       "taster_name_Matt Kettmann                           -0.087552   \n",
       "taster_name_Michael Schachner                             NaN   \n",
       "taster_name_Paul Gregutt                                  NaN   \n",
       "\n",
       "                                taster_name_Paul Gregutt  \n",
       "price                                          -0.012228  \n",
       "country_Australia                              -0.040582  \n",
       "points                                          0.063806  \n",
       "country_Austria                                -0.044922  \n",
       "country_Portugal                               -0.059813  \n",
       "country_US                                      0.309611  \n",
       "taster_name_Alexander Peartree                 -0.017084  \n",
       "taster_name_Matt Kettmann                      -0.068055  \n",
       "taster_name_Michael Schachner                  -0.109612  \n",
       "taster_name_Paul Gregutt                             NaN  "
      ]
     },
     "execution_count": 111,
     "metadata": {},
     "output_type": "execute_result"
    }
   ],
   "source": [
    "# Create base correlation matrix\n",
    "corr_matrix = top_features_df.corr()\n",
    "\n",
    "# Select upper triangle of correlation matrix so that I only cmpare features to other features\n",
    "upper = corr_matrix.where(np.triu(np.ones(corr_matrix.shape), k=1).astype(np.bool))\n",
    "\n",
    "upper"
   ]
  },
  {
   "cell_type": "code",
   "execution_count": null,
   "metadata": {},
   "outputs": [],
   "source": []
  },
  {
   "cell_type": "code",
   "execution_count": 112,
   "metadata": {},
   "outputs": [],
   "source": [
    "top_features_df.to_csv(r'C:\\Users\\howar\\Desktop\\Data Science Boot Camp\\Group_Project_3\\Group_Project_3\\prediction_modeling\\wine_features.csv', index=False)"
   ]
  },
  {
   "cell_type": "code",
   "execution_count": 115,
   "metadata": {},
   "outputs": [
    {
     "data": {
      "text/html": [
       "<div>\n",
       "<style scoped>\n",
       "    .dataframe tbody tr th:only-of-type {\n",
       "        vertical-align: middle;\n",
       "    }\n",
       "\n",
       "    .dataframe tbody tr th {\n",
       "        vertical-align: top;\n",
       "    }\n",
       "\n",
       "    .dataframe thead th {\n",
       "        text-align: right;\n",
       "    }\n",
       "</style>\n",
       "<table border=\"1\" class=\"dataframe\">\n",
       "  <thead>\n",
       "    <tr style=\"text-align: right;\">\n",
       "      <th></th>\n",
       "      <th>points</th>\n",
       "    </tr>\n",
       "  </thead>\n",
       "  <tbody>\n",
       "    <tr>\n",
       "      <th>1</th>\n",
       "      <td>87</td>\n",
       "    </tr>\n",
       "    <tr>\n",
       "      <th>2</th>\n",
       "      <td>87</td>\n",
       "    </tr>\n",
       "    <tr>\n",
       "      <th>3</th>\n",
       "      <td>87</td>\n",
       "    </tr>\n",
       "    <tr>\n",
       "      <th>4</th>\n",
       "      <td>87</td>\n",
       "    </tr>\n",
       "    <tr>\n",
       "      <th>5</th>\n",
       "      <td>87</td>\n",
       "    </tr>\n",
       "  </tbody>\n",
       "</table>\n",
       "</div>"
      ],
      "text/plain": [
       "   points\n",
       "1      87\n",
       "2      87\n",
       "3      87\n",
       "4      87\n",
       "5      87"
      ]
     },
     "execution_count": 115,
     "metadata": {},
     "output_type": "execute_result"
    }
   ],
   "source": [
    "final_targets_df = pd.DataFrame(final_targets_df)\n",
    "\n",
    "final_targets_df.head()"
   ]
  },
  {
   "cell_type": "code",
   "execution_count": 117,
   "metadata": {},
   "outputs": [],
   "source": [
    "final_targets_df.to_csv(r'C:\\Users\\howar\\Desktop\\Data Science Boot Camp\\Group_Project_3\\Group_Project_3\\prediction_modeling\\wine_targets.csv', index=False)"
   ]
  },
  {
   "cell_type": "code",
   "execution_count": null,
   "metadata": {},
   "outputs": [],
   "source": []
  },
  {
   "cell_type": "code",
   "execution_count": null,
   "metadata": {},
   "outputs": [],
   "source": []
  },
  {
   "cell_type": "code",
   "execution_count": null,
   "metadata": {},
   "outputs": [],
   "source": []
  },
  {
   "cell_type": "code",
   "execution_count": null,
   "metadata": {},
   "outputs": [],
   "source": []
  }
 ],
 "metadata": {
  "kernelspec": {
   "display_name": "Python [conda env:PythonData] *",
   "language": "python",
   "name": "conda-env-PythonData-py"
  },
  "language_info": {
   "codemirror_mode": {
    "name": "ipython",
    "version": 3
   },
   "file_extension": ".py",
   "mimetype": "text/x-python",
   "name": "python",
   "nbconvert_exporter": "python",
   "pygments_lexer": "ipython3",
   "version": "3.6.8"
  }
 },
 "nbformat": 4,
 "nbformat_minor": 2
}
