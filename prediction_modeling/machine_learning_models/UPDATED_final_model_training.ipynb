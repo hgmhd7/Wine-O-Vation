{
 "cells": [
  {
   "cell_type": "markdown",
   "metadata": {},
   "source": [
    "# IMPORT AND PREPARE DATA"
   ]
  },
  {
   "cell_type": "code",
   "execution_count": 1,
   "metadata": {},
   "outputs": [],
   "source": [
    "# Import initial dependencies\n",
    "import pandas as pd\n",
    "import numpy as np"
   ]
  },
  {
   "cell_type": "code",
   "execution_count": 2,
   "metadata": {},
   "outputs": [],
   "source": [
    "# Convert CSVs to DFs\n",
    "features = \"../output/UPDATED_reduced_wine_features.csv\"\n",
    "targets = \"../output/reduced_wine_targets.csv\"\n",
    "\n",
    "features_df_pre = pd.read_csv(features)\n",
    "targets_df =pd.read_csv(targets) "
   ]
  },
  {
   "cell_type": "code",
   "execution_count": 3,
   "metadata": {},
   "outputs": [],
   "source": [
    "features_df = features_df_pre[['white', 'flavor_categories_taste_notes_light, fruity', 'price', 'country_Austria']]"
   ]
  },
  {
   "cell_type": "code",
   "execution_count": 4,
   "metadata": {},
   "outputs": [
    {
     "data": {
      "text/html": [
       "<div>\n",
       "<style scoped>\n",
       "    .dataframe tbody tr th:only-of-type {\n",
       "        vertical-align: middle;\n",
       "    }\n",
       "\n",
       "    .dataframe tbody tr th {\n",
       "        vertical-align: top;\n",
       "    }\n",
       "\n",
       "    .dataframe thead th {\n",
       "        text-align: right;\n",
       "    }\n",
       "</style>\n",
       "<table border=\"1\" class=\"dataframe\">\n",
       "  <thead>\n",
       "    <tr style=\"text-align: right;\">\n",
       "      <th></th>\n",
       "      <th>white</th>\n",
       "      <th>flavor_categories_taste_notes_light, fruity</th>\n",
       "      <th>price</th>\n",
       "      <th>country_Austria</th>\n",
       "    </tr>\n",
       "  </thead>\n",
       "  <tbody>\n",
       "    <tr>\n",
       "      <th>0</th>\n",
       "      <td>0.0</td>\n",
       "      <td>1</td>\n",
       "      <td>15.0</td>\n",
       "      <td>0</td>\n",
       "    </tr>\n",
       "    <tr>\n",
       "      <th>1</th>\n",
       "      <td>0.0</td>\n",
       "      <td>0</td>\n",
       "      <td>65.0</td>\n",
       "      <td>0</td>\n",
       "    </tr>\n",
       "    <tr>\n",
       "      <th>2</th>\n",
       "      <td>0.0</td>\n",
       "      <td>1</td>\n",
       "      <td>19.0</td>\n",
       "      <td>0</td>\n",
       "    </tr>\n",
       "    <tr>\n",
       "      <th>3</th>\n",
       "      <td>0.0</td>\n",
       "      <td>0</td>\n",
       "      <td>34.0</td>\n",
       "      <td>0</td>\n",
       "    </tr>\n",
       "    <tr>\n",
       "      <th>4</th>\n",
       "      <td>0.0</td>\n",
       "      <td>0</td>\n",
       "      <td>30.0</td>\n",
       "      <td>0</td>\n",
       "    </tr>\n",
       "  </tbody>\n",
       "</table>\n",
       "</div>"
      ],
      "text/plain": [
       "   white  flavor_categories_taste_notes_light, fruity  price  country_Austria\n",
       "0    0.0                                            1   15.0                0\n",
       "1    0.0                                            0   65.0                0\n",
       "2    0.0                                            1   19.0                0\n",
       "3    0.0                                            0   34.0                0\n",
       "4    0.0                                            0   30.0                0"
      ]
     },
     "execution_count": 4,
     "metadata": {},
     "output_type": "execute_result"
    }
   ],
   "source": [
    "# Check feature DF head\n",
    "features_df.head()"
   ]
  },
  {
   "cell_type": "code",
   "execution_count": 5,
   "metadata": {},
   "outputs": [
    {
     "data": {
      "text/plain": [
       "(109662, 4)"
      ]
     },
     "execution_count": 5,
     "metadata": {},
     "output_type": "execute_result"
    }
   ],
   "source": [
    "# Check feature DF shape\n",
    "features_df.shape"
   ]
  },
  {
   "cell_type": "code",
   "execution_count": 6,
   "metadata": {},
   "outputs": [
    {
     "data": {
      "text/html": [
       "<div>\n",
       "<style scoped>\n",
       "    .dataframe tbody tr th:only-of-type {\n",
       "        vertical-align: middle;\n",
       "    }\n",
       "\n",
       "    .dataframe tbody tr th {\n",
       "        vertical-align: top;\n",
       "    }\n",
       "\n",
       "    .dataframe thead th {\n",
       "        text-align: right;\n",
       "    }\n",
       "</style>\n",
       "<table border=\"1\" class=\"dataframe\">\n",
       "  <thead>\n",
       "    <tr style=\"text-align: right;\">\n",
       "      <th></th>\n",
       "      <th>points</th>\n",
       "    </tr>\n",
       "  </thead>\n",
       "  <tbody>\n",
       "    <tr>\n",
       "      <th>0</th>\n",
       "      <td>87</td>\n",
       "    </tr>\n",
       "    <tr>\n",
       "      <th>1</th>\n",
       "      <td>87</td>\n",
       "    </tr>\n",
       "    <tr>\n",
       "      <th>2</th>\n",
       "      <td>87</td>\n",
       "    </tr>\n",
       "    <tr>\n",
       "      <th>3</th>\n",
       "      <td>87</td>\n",
       "    </tr>\n",
       "    <tr>\n",
       "      <th>4</th>\n",
       "      <td>87</td>\n",
       "    </tr>\n",
       "  </tbody>\n",
       "</table>\n",
       "</div>"
      ],
      "text/plain": [
       "   points\n",
       "0      87\n",
       "1      87\n",
       "2      87\n",
       "3      87\n",
       "4      87"
      ]
     },
     "execution_count": 6,
     "metadata": {},
     "output_type": "execute_result"
    }
   ],
   "source": [
    "# Check targets DF\n",
    "targets_df.head()"
   ]
  },
  {
   "cell_type": "code",
   "execution_count": 7,
   "metadata": {},
   "outputs": [
    {
     "data": {
      "text/plain": [
       "points    int64\n",
       "dtype: object"
      ]
     },
     "execution_count": 7,
     "metadata": {},
     "output_type": "execute_result"
    }
   ],
   "source": [
    "# Check Dtypes\n",
    "targets_df.dtypes"
   ]
  },
  {
   "cell_type": "code",
   "execution_count": 8,
   "metadata": {},
   "outputs": [
    {
     "name": "stdout",
     "output_type": "stream",
     "text": [
      "(109662, 4) (109662, 1)\n"
     ]
    }
   ],
   "source": [
    "# Check feature and target DF shape\n",
    "print(features_df.shape, targets_df.shape)"
   ]
  },
  {
   "cell_type": "code",
   "execution_count": 9,
   "metadata": {},
   "outputs": [
    {
     "name": "stdout",
     "output_type": "stream",
     "text": [
      "[[ 0.  1. 15.  0.]\n",
      " [ 0.  0. 65.  0.]\n",
      " [ 0.  1. 19.  0.]\n",
      " ...\n",
      " [ 0.  0. 70.  0.]\n",
      " [ 0.  0. 25.  0.]\n",
      " [ 0.  0. 38.  0.]] [[87]\n",
      " [87]\n",
      " [87]\n",
      " ...\n",
      " [90]\n",
      " [90]\n",
      " [91]]\n"
     ]
    }
   ],
   "source": [
    "# Assign the features and target to X and y abd check assignments\n",
    "raw_feature_data = features_df.values\n",
    "raw_target_data = targets_df.values\n",
    "X = raw_feature_data[:, 0:5]\n",
    "y = raw_target_data.reshape(-1,1)\n",
    "\n",
    "print(X, y)"
   ]
  },
  {
   "cell_type": "markdown",
   "metadata": {},
   "source": [
    "# SPLIT, NORMALIZE, AND ENCODE THE DATA"
   ]
  },
  {
   "cell_type": "code",
   "execution_count": 10,
   "metadata": {},
   "outputs": [],
   "source": [
    "# Create the train and test sets for the features and target\n",
    "from sklearn.model_selection import train_test_split\n",
    "\n",
    "X_train, X_test, y_train, y_test = train_test_split(X, y, random_state=42)"
   ]
  },
  {
   "cell_type": "code",
   "execution_count": 11,
   "metadata": {},
   "outputs": [],
   "source": [
    "# Scale the features using the MinMax scaler since we know their values\n",
    "from sklearn.preprocessing import LabelEncoder, MinMaxScaler\n",
    "\n",
    "X_scaler = MinMaxScaler().fit(X_train)\n",
    "X_train_scaled = X_scaler.transform(X_train)\n",
    "X_test_scaled = X_scaler.transform(X_test)\n",
    "\n",
    "y_scaler = MinMaxScaler().fit(y_train)\n",
    "y_train_scaled = y_scaler.transform(y_train)\n",
    "y_test_scaled = y_scaler.transform(y_test)"
   ]
  },
  {
   "cell_type": "markdown",
   "metadata": {},
   "source": [
    "# HYPERPERAMETER TUNING"
   ]
  },
  {
   "cell_type": "code",
   "execution_count": 12,
   "metadata": {},
   "outputs": [
    {
     "name": "stderr",
     "output_type": "stream",
     "text": [
      "Using TensorFlow backend.\n"
     ]
    }
   ],
   "source": [
    "# Import the sequential and dense modules fo build my NN\n",
    "from sklearn.model_selection import GridSearchCV\n",
    "from keras.models import Sequential\n",
    "from keras.layers import Dense\n",
    "from keras.layers import Dropout\n",
    "from keras.wrappers.scikit_learn import KerasRegressor\n",
    "from keras.constraints import maxnorm"
   ]
  },
  {
   "cell_type": "markdown",
   "metadata": {},
   "source": [
    "# Run XGB Regressor with scalled data and recommended parameters from the previous test"
   ]
  },
  {
   "cell_type": "code",
   "execution_count": 13,
   "metadata": {},
   "outputs": [
    {
     "name": "stdout",
     "output_type": "stream",
     "text": [
      "Select Model...\n",
      "parameters:\n",
      "{'batch_size': [10, 16],\n",
      " 'learning_rate': [0.01],\n",
      " 'max_depth': [5, 7],\n",
      " 'n_estimators': [850]}\n",
      "[23:20:38] WARNING: C:/Jenkins/workspace/xgboost-win64_release_0.90/src/objective/regression_obj.cu:152: reg:linear is now deprecated in favor of reg:squarederror.\n",
      "Best score: 0.401\n",
      "Best parameters set:\n",
      "\tbase_score: 0.5\n",
      "\tbatch_size: 10\n",
      "\tbooster: 'gbtree'\n",
      "\tcolsample_bylevel: 1\n",
      "\tcolsample_bynode: 1\n",
      "\tcolsample_bytree: 1\n",
      "\tgamma: 0\n",
      "\timportance_type: 'gain'\n",
      "\tlearning_rate: 0.01\n",
      "\tmax_delta_step: 0\n",
      "\tmax_depth: 5\n",
      "\tmin_child_weight: 1\n",
      "\tmissing: None\n",
      "\tn_estimators: 850\n",
      "\tn_jobs: 1\n",
      "\tnthread: None\n",
      "\tobjective: 'reg:linear'\n",
      "\trandom_state: 0\n",
      "\treg_alpha: 0\n",
      "\treg_lambda: 1\n",
      "\tscale_pos_weight: 1\n",
      "\tseed: None\n",
      "\tsilent: None\n",
      "\tsubsample: 1\n",
      "\tverbosity: 1\n",
      "Select Done..., Time Cost: 253.\n"
     ]
    }
   ],
   "source": [
    "print('Select Model...')\n",
    "from xgboost import XGBRegressor\n",
    "from datetime import datetime\n",
    "import pprint\n",
    "import os\n",
    "\n",
    "# Create start time and model for XGB Regressor\n",
    "start_time  = datetime.now()\n",
    "xgb_reg = XGBRegressor() \n",
    "\n",
    "\n",
    "parameters_reg = {'n_estimators': [850], 'max_depth':[5, 7], \\\n",
    "              'learning_rate':[.01], 'batch_size':[10, 16]}\n",
    "\n",
    "grid_search = GridSearchCV(estimator=xgb_reg, param_grid=parameters_reg, cv=10, n_jobs=-1)\n",
    "\n",
    "\n",
    "print(\"parameters:\")\n",
    "pprint.pprint(parameters_reg)\n",
    "\n",
    "\n",
    "grid = grid_search.fit(X_train_scaled, y_train_scaled.ravel())\n",
    "\n",
    "\n",
    "print(\"Best score: %0.3f\" % grid.best_score_)\n",
    "print(\"Best parameters set:\")\n",
    "best_parameters=grid.best_estimator_.get_params()\n",
    "\n",
    "\n",
    "for param_name in sorted(best_parameters.keys()):\n",
    "    print(\"\\t%s: %r\" % (param_name, best_parameters[param_name]))\n",
    "    end_time = datetime.now()\n",
    "print(f'Select Done..., Time Cost: {((end_time - start_time).seconds)}.') "
   ]
  },
  {
   "cell_type": "code",
   "execution_count": 14,
   "metadata": {},
   "outputs": [
    {
     "name": "stdout",
     "output_type": "stream",
     "text": [
      "Mean Squared Error (MSE): 0.01410573966214706\n",
      "R-squared (R2): 0.3979035733416677\n"
     ]
    }
   ],
   "source": [
    "from sklearn.metrics import mean_squared_error, r2_score\n",
    "\n",
    "# Use our model to predict a value\n",
    "predicted = grid.predict(X_test_scaled)\n",
    "\n",
    "# Score the prediction with mse and r2\n",
    "mse = mean_squared_error(y_test_scaled, predicted)\n",
    "r2 = r2_score(y_test_scaled, predicted)\n",
    "\n",
    "# Print scores\n",
    "print(f\"Mean Squared Error (MSE): {mse}\")\n",
    "print(f\"R-squared (R2): {r2}\")"
   ]
  },
  {
   "cell_type": "code",
   "execution_count": 15,
   "metadata": {},
   "outputs": [
    {
     "data": {
      "text/plain": [
       "array([0.43168384, 0.29862463, 0.365847  , ..., 0.40303826, 0.5965271 ,\n",
       "       0.3683988 ], dtype=float32)"
      ]
     },
     "execution_count": 15,
     "metadata": {},
     "output_type": "execute_result"
    }
   ],
   "source": [
    "# Create list of predictions and check\n",
    "predicted_list = grid.predict(X_test_scaled)\n",
    "\n",
    "predicted_list"
   ]
  },
  {
   "cell_type": "code",
   "execution_count": 16,
   "metadata": {},
   "outputs": [
    {
     "data": {
      "text/plain": [
       "array([[0.55],\n",
       "       [0.45],\n",
       "       [0.45],\n",
       "       ...,\n",
       "       [0.55],\n",
       "       [0.8 ],\n",
       "       [0.5 ]])"
      ]
     },
     "execution_count": 16,
     "metadata": {},
     "output_type": "execute_result"
    }
   ],
   "source": [
    "# Create list of actual values and check\n",
    "actual_list = y_test_scaled\n",
    "\n",
    "actual_list"
   ]
  },
  {
   "cell_type": "markdown",
   "metadata": {},
   "source": [
    "# PRINT PREDICTIONS FOR SCALED DATA TO COMPARE TO ACTUAL RATINGS"
   ]
  },
  {
   "cell_type": "code",
   "execution_count": 17,
   "metadata": {},
   "outputs": [
    {
     "data": {
      "text/html": [
       "<div>\n",
       "<style scoped>\n",
       "    .dataframe tbody tr th:only-of-type {\n",
       "        vertical-align: middle;\n",
       "    }\n",
       "\n",
       "    .dataframe tbody tr th {\n",
       "        vertical-align: top;\n",
       "    }\n",
       "\n",
       "    .dataframe thead th {\n",
       "        text-align: right;\n",
       "    }\n",
       "</style>\n",
       "<table border=\"1\" class=\"dataframe\">\n",
       "  <thead>\n",
       "    <tr style=\"text-align: right;\">\n",
       "      <th></th>\n",
       "      <th>XGB_Predictions (unscaled)</th>\n",
       "      <th>Actual_Points (unscaled)</th>\n",
       "    </tr>\n",
       "  </thead>\n",
       "  <tbody>\n",
       "    <tr>\n",
       "      <th>0</th>\n",
       "      <td>0.431684</td>\n",
       "      <td>0.55</td>\n",
       "    </tr>\n",
       "    <tr>\n",
       "      <th>1</th>\n",
       "      <td>0.298625</td>\n",
       "      <td>0.45</td>\n",
       "    </tr>\n",
       "    <tr>\n",
       "      <th>2</th>\n",
       "      <td>0.365847</td>\n",
       "      <td>0.45</td>\n",
       "    </tr>\n",
       "    <tr>\n",
       "      <th>3</th>\n",
       "      <td>0.410079</td>\n",
       "      <td>0.40</td>\n",
       "    </tr>\n",
       "    <tr>\n",
       "      <th>4</th>\n",
       "      <td>0.563481</td>\n",
       "      <td>0.40</td>\n",
       "    </tr>\n",
       "    <tr>\n",
       "      <th>5</th>\n",
       "      <td>0.383288</td>\n",
       "      <td>0.65</td>\n",
       "    </tr>\n",
       "    <tr>\n",
       "      <th>6</th>\n",
       "      <td>0.481746</td>\n",
       "      <td>0.40</td>\n",
       "    </tr>\n",
       "    <tr>\n",
       "      <th>7</th>\n",
       "      <td>0.543273</td>\n",
       "      <td>0.60</td>\n",
       "    </tr>\n",
       "    <tr>\n",
       "      <th>8</th>\n",
       "      <td>0.391415</td>\n",
       "      <td>0.25</td>\n",
       "    </tr>\n",
       "    <tr>\n",
       "      <th>9</th>\n",
       "      <td>0.449901</td>\n",
       "      <td>0.35</td>\n",
       "    </tr>\n",
       "    <tr>\n",
       "      <th>10</th>\n",
       "      <td>0.352364</td>\n",
       "      <td>0.45</td>\n",
       "    </tr>\n",
       "    <tr>\n",
       "      <th>11</th>\n",
       "      <td>0.521510</td>\n",
       "      <td>0.30</td>\n",
       "    </tr>\n",
       "    <tr>\n",
       "      <th>12</th>\n",
       "      <td>0.329916</td>\n",
       "      <td>0.45</td>\n",
       "    </tr>\n",
       "    <tr>\n",
       "      <th>13</th>\n",
       "      <td>0.503818</td>\n",
       "      <td>0.35</td>\n",
       "    </tr>\n",
       "    <tr>\n",
       "      <th>14</th>\n",
       "      <td>0.289761</td>\n",
       "      <td>0.50</td>\n",
       "    </tr>\n",
       "    <tr>\n",
       "      <th>15</th>\n",
       "      <td>0.422323</td>\n",
       "      <td>0.30</td>\n",
       "    </tr>\n",
       "    <tr>\n",
       "      <th>16</th>\n",
       "      <td>0.490426</td>\n",
       "      <td>0.40</td>\n",
       "    </tr>\n",
       "    <tr>\n",
       "      <th>17</th>\n",
       "      <td>0.529829</td>\n",
       "      <td>0.35</td>\n",
       "    </tr>\n",
       "    <tr>\n",
       "      <th>18</th>\n",
       "      <td>0.591310</td>\n",
       "      <td>0.70</td>\n",
       "    </tr>\n",
       "    <tr>\n",
       "      <th>19</th>\n",
       "      <td>0.386083</td>\n",
       "      <td>0.40</td>\n",
       "    </tr>\n",
       "    <tr>\n",
       "      <th>20</th>\n",
       "      <td>0.426587</td>\n",
       "      <td>0.65</td>\n",
       "    </tr>\n",
       "    <tr>\n",
       "      <th>21</th>\n",
       "      <td>0.426587</td>\n",
       "      <td>0.50</td>\n",
       "    </tr>\n",
       "    <tr>\n",
       "      <th>22</th>\n",
       "      <td>0.481746</td>\n",
       "      <td>0.45</td>\n",
       "    </tr>\n",
       "    <tr>\n",
       "      <th>23</th>\n",
       "      <td>0.579899</td>\n",
       "      <td>0.70</td>\n",
       "    </tr>\n",
       "    <tr>\n",
       "      <th>24</th>\n",
       "      <td>0.468804</td>\n",
       "      <td>0.40</td>\n",
       "    </tr>\n",
       "    <tr>\n",
       "      <th>25</th>\n",
       "      <td>0.357764</td>\n",
       "      <td>0.50</td>\n",
       "    </tr>\n",
       "    <tr>\n",
       "      <th>26</th>\n",
       "      <td>0.426587</td>\n",
       "      <td>0.55</td>\n",
       "    </tr>\n",
       "    <tr>\n",
       "      <th>27</th>\n",
       "      <td>0.377982</td>\n",
       "      <td>0.40</td>\n",
       "    </tr>\n",
       "    <tr>\n",
       "      <th>28</th>\n",
       "      <td>0.357764</td>\n",
       "      <td>0.50</td>\n",
       "    </tr>\n",
       "    <tr>\n",
       "      <th>29</th>\n",
       "      <td>0.426587</td>\n",
       "      <td>0.55</td>\n",
       "    </tr>\n",
       "    <tr>\n",
       "      <th>30</th>\n",
       "      <td>0.579899</td>\n",
       "      <td>0.55</td>\n",
       "    </tr>\n",
       "    <tr>\n",
       "      <th>31</th>\n",
       "      <td>0.257704</td>\n",
       "      <td>0.15</td>\n",
       "    </tr>\n",
       "    <tr>\n",
       "      <th>32</th>\n",
       "      <td>0.410079</td>\n",
       "      <td>0.65</td>\n",
       "    </tr>\n",
       "    <tr>\n",
       "      <th>33</th>\n",
       "      <td>0.426935</td>\n",
       "      <td>0.55</td>\n",
       "    </tr>\n",
       "    <tr>\n",
       "      <th>34</th>\n",
       "      <td>0.603567</td>\n",
       "      <td>0.65</td>\n",
       "    </tr>\n",
       "    <tr>\n",
       "      <th>35</th>\n",
       "      <td>0.611858</td>\n",
       "      <td>0.50</td>\n",
       "    </tr>\n",
       "    <tr>\n",
       "      <th>36</th>\n",
       "      <td>0.377982</td>\n",
       "      <td>0.20</td>\n",
       "    </tr>\n",
       "    <tr>\n",
       "      <th>37</th>\n",
       "      <td>0.529973</td>\n",
       "      <td>0.40</td>\n",
       "    </tr>\n",
       "    <tr>\n",
       "      <th>38</th>\n",
       "      <td>0.468832</td>\n",
       "      <td>0.50</td>\n",
       "    </tr>\n",
       "    <tr>\n",
       "      <th>39</th>\n",
       "      <td>0.529973</td>\n",
       "      <td>0.55</td>\n",
       "    </tr>\n",
       "  </tbody>\n",
       "</table>\n",
       "</div>"
      ],
      "text/plain": [
       "    XGB_Predictions (unscaled)  Actual_Points (unscaled)\n",
       "0                     0.431684                      0.55\n",
       "1                     0.298625                      0.45\n",
       "2                     0.365847                      0.45\n",
       "3                     0.410079                      0.40\n",
       "4                     0.563481                      0.40\n",
       "5                     0.383288                      0.65\n",
       "6                     0.481746                      0.40\n",
       "7                     0.543273                      0.60\n",
       "8                     0.391415                      0.25\n",
       "9                     0.449901                      0.35\n",
       "10                    0.352364                      0.45\n",
       "11                    0.521510                      0.30\n",
       "12                    0.329916                      0.45\n",
       "13                    0.503818                      0.35\n",
       "14                    0.289761                      0.50\n",
       "15                    0.422323                      0.30\n",
       "16                    0.490426                      0.40\n",
       "17                    0.529829                      0.35\n",
       "18                    0.591310                      0.70\n",
       "19                    0.386083                      0.40\n",
       "20                    0.426587                      0.65\n",
       "21                    0.426587                      0.50\n",
       "22                    0.481746                      0.45\n",
       "23                    0.579899                      0.70\n",
       "24                    0.468804                      0.40\n",
       "25                    0.357764                      0.50\n",
       "26                    0.426587                      0.55\n",
       "27                    0.377982                      0.40\n",
       "28                    0.357764                      0.50\n",
       "29                    0.426587                      0.55\n",
       "30                    0.579899                      0.55\n",
       "31                    0.257704                      0.15\n",
       "32                    0.410079                      0.65\n",
       "33                    0.426935                      0.55\n",
       "34                    0.603567                      0.65\n",
       "35                    0.611858                      0.50\n",
       "36                    0.377982                      0.20\n",
       "37                    0.529973                      0.40\n",
       "38                    0.468832                      0.50\n",
       "39                    0.529973                      0.55"
      ]
     },
     "execution_count": 17,
     "metadata": {},
     "output_type": "execute_result"
    }
   ],
   "source": [
    "# Create DF for unscaled test to further compare predictions with actual points\n",
    "prediction_comparrisons_df = pd.DataFrame({'XGB_Predictions (unscaled)' : predicted_list,\n",
    "                                           'Actual_Points (unscaled)' : actual_list.ravel()\n",
    "                                          })\n",
    "\n",
    "prediction_comparrisons_df.head(40)"
   ]
  },
  {
   "cell_type": "code",
   "execution_count": 18,
   "metadata": {},
   "outputs": [],
   "source": [
    "# Export unscaled results\n",
    "prediction_comparrisons_df.to_csv(r'C:\\Users\\howar\\Desktop\\Data Science Boot Camp\\Group_Project_3\\prediction_modeling\\output\\UPDATED_predictions_vs_actual.csv', index=False)"
   ]
  },
  {
   "cell_type": "code",
   "execution_count": 19,
   "metadata": {},
   "outputs": [
    {
     "data": {
      "text/plain": [
       "['saved_models\\\\XGB_Regressor_unscaled_(BEST_SCALED_REDUCED_FEATURES).sav']"
      ]
     },
     "execution_count": 19,
     "metadata": {},
     "output_type": "execute_result"
    }
   ],
   "source": [
    "# Save the tuned model for future use\n",
    "import joblib\n",
    "filename = 'saved_models\\XGB_Regressor_unscaled_(BEST_SCALED_REDUCED_FEATURES).sav'\n",
    "joblib.dump(grid, filename)"
   ]
  },
  {
   "cell_type": "code",
   "execution_count": null,
   "metadata": {},
   "outputs": [],
   "source": []
  },
  {
   "cell_type": "code",
   "execution_count": null,
   "metadata": {},
   "outputs": [],
   "source": []
  },
  {
   "cell_type": "markdown",
   "metadata": {},
   "source": [
    "# Run XGB Regressor with unscalled data and recommended parameters from the previous test"
   ]
  },
  {
   "cell_type": "code",
   "execution_count": 20,
   "metadata": {},
   "outputs": [
    {
     "name": "stdout",
     "output_type": "stream",
     "text": [
      "Select Model...\n",
      "parameters:\n",
      "{'batch_size': [10],\n",
      " 'learning_rate': [0.01],\n",
      " 'max_depth': [5],\n",
      " 'n_estimators': [850]}\n",
      "[23:22:26] WARNING: C:/Jenkins/workspace/xgboost-win64_release_0.90/src/objective/regression_obj.cu:152: reg:linear is now deprecated in favor of reg:squarederror.\n",
      "Best score: 0.401\n",
      "Best parameters set:\n",
      "\tbatch_size: 10\n",
      "\tlearning_rate: 0.01\n",
      "\tmax_depth: 5\n",
      "\tn_estimators: 850\n"
     ]
    }
   ],
   "source": [
    "print('Select Model...')\n",
    "from xgboost import XGBRegressor\n",
    "from datetime import datetime\n",
    "import pprint\n",
    "import os\n",
    "\n",
    "\n",
    "xgb_reg_2 = XGBRegressor() \n",
    "\n",
    "\n",
    "parameters_reg_2 = {'n_estimators': [850], 'max_depth':[5], \\\n",
    "              'learning_rate':[.01], 'batch_size':[10]}\n",
    "\n",
    "grid_search_2 = GridSearchCV(estimator=xgb_reg_2, param_grid=parameters_reg_2, cv=10, n_jobs=-1)\n",
    "\n",
    "\n",
    "print(\"parameters:\")\n",
    "pprint.pprint(parameters_reg_2)\n",
    "\n",
    "\n",
    "grid_2 = grid_search_2.fit(X_train, y_train.ravel())\n",
    "\n",
    "\n",
    "print(\"Best score: %0.3f\" % grid_2.best_score_)\n",
    "print(\"Best parameters set:\")\n",
    "best_parameters_2=grid_2.best_estimator_.get_params()\n",
    "\n",
    "\n",
    "for param_name in sorted(parameters_reg_2.keys()):\n",
    "    print(\"\\t%s: %r\" % (param_name, best_parameters_2[param_name]))\n",
    "\n"
   ]
  },
  {
   "cell_type": "code",
   "execution_count": 21,
   "metadata": {},
   "outputs": [
    {
     "name": "stdout",
     "output_type": "stream",
     "text": [
      "Mean Squared Error (MSE): 5.643817592693378\n",
      "R-squared (R2): 0.39774118786712387\n"
     ]
    }
   ],
   "source": [
    "from sklearn.metrics import mean_squared_error, r2_score\n",
    "\n",
    "# Use our model to predict a value\n",
    "predicted = grid_2.predict(X_test)\n",
    "\n",
    "# Score the prediction with mse and r2\n",
    "mse = mean_squared_error(y_test, predicted)\n",
    "r2 = r2_score(y_test, predicted)\n",
    "\n",
    "# Print scores\n",
    "print(f\"Mean Squared Error (MSE): {mse}\")\n",
    "print(f\"R-squared (R2): {r2}\")"
   ]
  },
  {
   "cell_type": "code",
   "execution_count": 22,
   "metadata": {},
   "outputs": [
    {
     "data": {
      "text/plain": [
       "array([88.639015, 85.94526 , 87.3009  , ..., 88.034966, 91.92236 ,\n",
       "       87.33915 ], dtype=float32)"
      ]
     },
     "execution_count": 22,
     "metadata": {},
     "output_type": "execute_result"
    }
   ],
   "source": [
    "# Create list of predictions and check\n",
    "predicted_list_unscaled = grid_2.predict(X_test)\n",
    "\n",
    "predicted_list_unscaled"
   ]
  },
  {
   "cell_type": "code",
   "execution_count": 23,
   "metadata": {},
   "outputs": [
    {
     "data": {
      "text/plain": [
       "array([[91],\n",
       "       [89],\n",
       "       [89],\n",
       "       ...,\n",
       "       [91],\n",
       "       [96],\n",
       "       [90]], dtype=int64)"
      ]
     },
     "execution_count": 23,
     "metadata": {},
     "output_type": "execute_result"
    }
   ],
   "source": [
    "# Create list of actual values and check\n",
    "actual_list_unscaled = y_test\n",
    "\n",
    "actual_list_unscaled"
   ]
  },
  {
   "cell_type": "markdown",
   "metadata": {},
   "source": [
    "# PRINT PREDICTIONS AND ACTUAL RATINGS FOR UNSCALED DATA"
   ]
  },
  {
   "cell_type": "code",
   "execution_count": 24,
   "metadata": {},
   "outputs": [
    {
     "data": {
      "text/html": [
       "<div>\n",
       "<style scoped>\n",
       "    .dataframe tbody tr th:only-of-type {\n",
       "        vertical-align: middle;\n",
       "    }\n",
       "\n",
       "    .dataframe tbody tr th {\n",
       "        vertical-align: top;\n",
       "    }\n",
       "\n",
       "    .dataframe thead th {\n",
       "        text-align: right;\n",
       "    }\n",
       "</style>\n",
       "<table border=\"1\" class=\"dataframe\">\n",
       "  <thead>\n",
       "    <tr style=\"text-align: right;\">\n",
       "      <th></th>\n",
       "      <th>XGB_Predictions (unscaled)</th>\n",
       "      <th>Actual_Points (unscaled)</th>\n",
       "    </tr>\n",
       "  </thead>\n",
       "  <tbody>\n",
       "    <tr>\n",
       "      <th>0</th>\n",
       "      <td>88.639015</td>\n",
       "      <td>91</td>\n",
       "    </tr>\n",
       "    <tr>\n",
       "      <th>1</th>\n",
       "      <td>85.945259</td>\n",
       "      <td>89</td>\n",
       "    </tr>\n",
       "    <tr>\n",
       "      <th>2</th>\n",
       "      <td>87.300903</td>\n",
       "      <td>89</td>\n",
       "    </tr>\n",
       "    <tr>\n",
       "      <th>3</th>\n",
       "      <td>88.245422</td>\n",
       "      <td>88</td>\n",
       "    </tr>\n",
       "    <tr>\n",
       "      <th>4</th>\n",
       "      <td>91.248062</td>\n",
       "      <td>88</td>\n",
       "    </tr>\n",
       "    <tr>\n",
       "      <th>5</th>\n",
       "      <td>87.656120</td>\n",
       "      <td>93</td>\n",
       "    </tr>\n",
       "    <tr>\n",
       "      <th>6</th>\n",
       "      <td>89.624031</td>\n",
       "      <td>88</td>\n",
       "    </tr>\n",
       "    <tr>\n",
       "      <th>7</th>\n",
       "      <td>90.846878</td>\n",
       "      <td>92</td>\n",
       "    </tr>\n",
       "    <tr>\n",
       "      <th>8</th>\n",
       "      <td>87.823799</td>\n",
       "      <td>85</td>\n",
       "    </tr>\n",
       "    <tr>\n",
       "      <th>9</th>\n",
       "      <td>88.978920</td>\n",
       "      <td>87</td>\n",
       "    </tr>\n",
       "    <tr>\n",
       "      <th>10</th>\n",
       "      <td>87.033188</td>\n",
       "      <td>89</td>\n",
       "    </tr>\n",
       "    <tr>\n",
       "      <th>11</th>\n",
       "      <td>90.444389</td>\n",
       "      <td>86</td>\n",
       "    </tr>\n",
       "    <tr>\n",
       "      <th>12</th>\n",
       "      <td>86.575623</td>\n",
       "      <td>89</td>\n",
       "    </tr>\n",
       "    <tr>\n",
       "      <th>13</th>\n",
       "      <td>90.114983</td>\n",
       "      <td>87</td>\n",
       "    </tr>\n",
       "    <tr>\n",
       "      <th>14</th>\n",
       "      <td>85.811295</td>\n",
       "      <td>90</td>\n",
       "    </tr>\n",
       "    <tr>\n",
       "      <th>15</th>\n",
       "      <td>88.448044</td>\n",
       "      <td>86</td>\n",
       "    </tr>\n",
       "    <tr>\n",
       "      <th>16</th>\n",
       "      <td>89.808617</td>\n",
       "      <td>88</td>\n",
       "    </tr>\n",
       "    <tr>\n",
       "      <th>17</th>\n",
       "      <td>90.581215</td>\n",
       "      <td>87</td>\n",
       "    </tr>\n",
       "    <tr>\n",
       "      <th>18</th>\n",
       "      <td>91.835999</td>\n",
       "      <td>94</td>\n",
       "    </tr>\n",
       "    <tr>\n",
       "      <th>19</th>\n",
       "      <td>87.709106</td>\n",
       "      <td>88</td>\n",
       "    </tr>\n",
       "    <tr>\n",
       "      <th>20</th>\n",
       "      <td>88.502487</td>\n",
       "      <td>93</td>\n",
       "    </tr>\n",
       "    <tr>\n",
       "      <th>21</th>\n",
       "      <td>88.502487</td>\n",
       "      <td>90</td>\n",
       "    </tr>\n",
       "    <tr>\n",
       "      <th>22</th>\n",
       "      <td>89.624031</td>\n",
       "      <td>89</td>\n",
       "    </tr>\n",
       "    <tr>\n",
       "      <th>23</th>\n",
       "      <td>91.572281</td>\n",
       "      <td>94</td>\n",
       "    </tr>\n",
       "    <tr>\n",
       "      <th>24</th>\n",
       "      <td>89.348518</td>\n",
       "      <td>88</td>\n",
       "    </tr>\n",
       "    <tr>\n",
       "      <th>25</th>\n",
       "      <td>87.156036</td>\n",
       "      <td>90</td>\n",
       "    </tr>\n",
       "    <tr>\n",
       "      <th>26</th>\n",
       "      <td>88.502487</td>\n",
       "      <td>91</td>\n",
       "    </tr>\n",
       "    <tr>\n",
       "      <th>27</th>\n",
       "      <td>87.539703</td>\n",
       "      <td>88</td>\n",
       "    </tr>\n",
       "    <tr>\n",
       "      <th>28</th>\n",
       "      <td>87.156036</td>\n",
       "      <td>90</td>\n",
       "    </tr>\n",
       "    <tr>\n",
       "      <th>29</th>\n",
       "      <td>88.502487</td>\n",
       "      <td>91</td>\n",
       "    </tr>\n",
       "    <tr>\n",
       "      <th>30</th>\n",
       "      <td>91.572281</td>\n",
       "      <td>91</td>\n",
       "    </tr>\n",
       "    <tr>\n",
       "      <th>31</th>\n",
       "      <td>85.099625</td>\n",
       "      <td>83</td>\n",
       "    </tr>\n",
       "    <tr>\n",
       "      <th>32</th>\n",
       "      <td>88.245422</td>\n",
       "      <td>93</td>\n",
       "    </tr>\n",
       "    <tr>\n",
       "      <th>33</th>\n",
       "      <td>88.487183</td>\n",
       "      <td>91</td>\n",
       "    </tr>\n",
       "    <tr>\n",
       "      <th>34</th>\n",
       "      <td>91.904396</td>\n",
       "      <td>93</td>\n",
       "    </tr>\n",
       "    <tr>\n",
       "      <th>35</th>\n",
       "      <td>92.195831</td>\n",
       "      <td>90</td>\n",
       "    </tr>\n",
       "    <tr>\n",
       "      <th>36</th>\n",
       "      <td>87.539703</td>\n",
       "      <td>84</td>\n",
       "    </tr>\n",
       "    <tr>\n",
       "      <th>37</th>\n",
       "      <td>90.581947</td>\n",
       "      <td>88</td>\n",
       "    </tr>\n",
       "    <tr>\n",
       "      <th>38</th>\n",
       "      <td>89.348732</td>\n",
       "      <td>90</td>\n",
       "    </tr>\n",
       "    <tr>\n",
       "      <th>39</th>\n",
       "      <td>90.581947</td>\n",
       "      <td>91</td>\n",
       "    </tr>\n",
       "  </tbody>\n",
       "</table>\n",
       "</div>"
      ],
      "text/plain": [
       "    XGB_Predictions (unscaled)  Actual_Points (unscaled)\n",
       "0                    88.639015                        91\n",
       "1                    85.945259                        89\n",
       "2                    87.300903                        89\n",
       "3                    88.245422                        88\n",
       "4                    91.248062                        88\n",
       "5                    87.656120                        93\n",
       "6                    89.624031                        88\n",
       "7                    90.846878                        92\n",
       "8                    87.823799                        85\n",
       "9                    88.978920                        87\n",
       "10                   87.033188                        89\n",
       "11                   90.444389                        86\n",
       "12                   86.575623                        89\n",
       "13                   90.114983                        87\n",
       "14                   85.811295                        90\n",
       "15                   88.448044                        86\n",
       "16                   89.808617                        88\n",
       "17                   90.581215                        87\n",
       "18                   91.835999                        94\n",
       "19                   87.709106                        88\n",
       "20                   88.502487                        93\n",
       "21                   88.502487                        90\n",
       "22                   89.624031                        89\n",
       "23                   91.572281                        94\n",
       "24                   89.348518                        88\n",
       "25                   87.156036                        90\n",
       "26                   88.502487                        91\n",
       "27                   87.539703                        88\n",
       "28                   87.156036                        90\n",
       "29                   88.502487                        91\n",
       "30                   91.572281                        91\n",
       "31                   85.099625                        83\n",
       "32                   88.245422                        93\n",
       "33                   88.487183                        91\n",
       "34                   91.904396                        93\n",
       "35                   92.195831                        90\n",
       "36                   87.539703                        84\n",
       "37                   90.581947                        88\n",
       "38                   89.348732                        90\n",
       "39                   90.581947                        91"
      ]
     },
     "execution_count": 24,
     "metadata": {},
     "output_type": "execute_result"
    }
   ],
   "source": [
    "# Create DF for unscaled test to further compare predictions with actual points\n",
    "prediction_comparrisons_unscaled_df = pd.DataFrame({'XGB_Predictions (unscaled)' : predicted_list_unscaled,\n",
    "                                           'Actual_Points (unscaled)' : actual_list_unscaled.ravel()\n",
    "                                          })\n",
    "\n",
    "prediction_comparrisons_unscaled_df.head(40)"
   ]
  },
  {
   "cell_type": "code",
   "execution_count": 25,
   "metadata": {},
   "outputs": [],
   "source": [
    "# Export unscaled results\n",
    "prediction_comparrisons_unscaled_df.to_csv(r'C:\\Users\\howar\\Desktop\\Data Science Boot Camp\\Group_Project_3\\prediction_modeling\\output\\UPDATED_predictions_vs_actual_unscaled.csv', index=False)"
   ]
  },
  {
   "cell_type": "code",
   "execution_count": 26,
   "metadata": {},
   "outputs": [
    {
     "data": {
      "text/plain": [
       "['saved_models\\\\XGB_Regressor_unscaled_(BEST_UNSCALED_REDUCED_FEATURES).sav']"
      ]
     },
     "execution_count": 26,
     "metadata": {},
     "output_type": "execute_result"
    }
   ],
   "source": [
    "# Save the tuned model for future use\n",
    "import joblib\n",
    "filename = 'saved_models\\XGB_Regressor_unscaled_(BEST_UNSCALED_REDUCED_FEATURES).sav'\n",
    "joblib.dump(grid_2, filename)"
   ]
  },
  {
   "cell_type": "code",
   "execution_count": 37,
   "metadata": {},
   "outputs": [],
   "source": [
    "# Export model to a serialized Python object structure to use in the App.py file\n",
    "import pickle\n",
    "pickle.dump(grid_2, open(\"../output/XGB_unscaled_model.pkl\",\"wb\"))"
   ]
  },
  {
   "cell_type": "code",
   "execution_count": 38,
   "metadata": {},
   "outputs": [],
   "source": [
    "# Export model to a serialized Python object structure to use in the App.py file (this time, in the app.py directory...)\n",
    "import pickle\n",
    "pickle.dump(grid_2, open(\"../../wine_application/parallax-template/XGB_unscaled_model.pkl\",\"wb\"))"
   ]
  },
  {
   "cell_type": "code",
   "execution_count": 39,
   "metadata": {},
   "outputs": [
    {
     "data": {
      "text/plain": [
       "array([86.1245  , 90.67437 , 87.0198  , ..., 91.09032 , 88.0918  ,\n",
       "       89.159584], dtype=float32)"
      ]
     },
     "execution_count": 39,
     "metadata": {},
     "output_type": "execute_result"
    }
   ],
   "source": [
    "# Create list of predictions and check\n",
    "predicted_list_full = grid_2.predict(X)\n",
    "\n",
    "predicted_list_full"
   ]
  },
  {
   "cell_type": "code",
   "execution_count": 40,
   "metadata": {},
   "outputs": [
    {
     "data": {
      "text/plain": [
       "(109662,)"
      ]
     },
     "execution_count": 40,
     "metadata": {},
     "output_type": "execute_result"
    }
   ],
   "source": [
    "predicted_list_full.shape"
   ]
  },
  {
   "cell_type": "code",
   "execution_count": 41,
   "metadata": {},
   "outputs": [
    {
     "data": {
      "text/plain": [
       "array([[87],\n",
       "       [87],\n",
       "       [87],\n",
       "       ...,\n",
       "       [90],\n",
       "       [90],\n",
       "       [91]], dtype=int64)"
      ]
     },
     "execution_count": 41,
     "metadata": {},
     "output_type": "execute_result"
    }
   ],
   "source": [
    "# Create list of actual values and check\n",
    "actual_list_full = y\n",
    "\n",
    "actual_list_full"
   ]
  },
  {
   "cell_type": "code",
   "execution_count": 42,
   "metadata": {},
   "outputs": [
    {
     "data": {
      "text/plain": [
       "(109662, 1)"
      ]
     },
     "execution_count": 42,
     "metadata": {},
     "output_type": "execute_result"
    }
   ],
   "source": [
    "actual_list_full.shape"
   ]
  },
  {
   "cell_type": "markdown",
   "metadata": {},
   "source": [
    "# EXPORT FINAL PREDICTED FEATURES AND TARGETS IN ONE COMBINED FILE TO USE IN THE APPLICATION"
   ]
  },
  {
   "cell_type": "code",
   "execution_count": 43,
   "metadata": {},
   "outputs": [
    {
     "name": "stderr",
     "output_type": "stream",
     "text": [
      "C:\\Users\\howar\\Anaconda3\\envs\\PythonData\\lib\\site-packages\\ipykernel_launcher.py:1: SettingWithCopyWarning: \n",
      "A value is trying to be set on a copy of a slice from a DataFrame.\n",
      "Try using .loc[row_indexer,col_indexer] = value instead\n",
      "\n",
      "See the caveats in the documentation: http://pandas.pydata.org/pandas-docs/stable/indexing.html#indexing-view-versus-copy\n",
      "  \"\"\"Entry point for launching an IPython kernel.\n"
     ]
    }
   ],
   "source": [
    "features_df['predicted_scores'] = predicted_list_full"
   ]
  },
  {
   "cell_type": "code",
   "execution_count": 44,
   "metadata": {},
   "outputs": [
    {
     "data": {
      "text/plain": [
       "Index(['white', 'flavor_categories_taste_notes_light, fruity', 'price',\n",
       "       'country_Austria', 'predicted_scores'],\n",
       "      dtype='object')"
      ]
     },
     "execution_count": 44,
     "metadata": {},
     "output_type": "execute_result"
    }
   ],
   "source": [
    "features_df.columns"
   ]
  },
  {
   "cell_type": "code",
   "execution_count": 45,
   "metadata": {},
   "outputs": [
    {
     "data": {
      "text/html": [
       "<div>\n",
       "<style scoped>\n",
       "    .dataframe tbody tr th:only-of-type {\n",
       "        vertical-align: middle;\n",
       "    }\n",
       "\n",
       "    .dataframe tbody tr th {\n",
       "        vertical-align: top;\n",
       "    }\n",
       "\n",
       "    .dataframe thead th {\n",
       "        text-align: right;\n",
       "    }\n",
       "</style>\n",
       "<table border=\"1\" class=\"dataframe\">\n",
       "  <thead>\n",
       "    <tr style=\"text-align: right;\">\n",
       "      <th></th>\n",
       "      <th>white</th>\n",
       "      <th>flavor_categories_taste_notes_light, fruity</th>\n",
       "      <th>price</th>\n",
       "      <th>country_Austria</th>\n",
       "      <th>predicted_scores</th>\n",
       "    </tr>\n",
       "  </thead>\n",
       "  <tbody>\n",
       "    <tr>\n",
       "      <th>0</th>\n",
       "      <td>0.0</td>\n",
       "      <td>1</td>\n",
       "      <td>15.0</td>\n",
       "      <td>0</td>\n",
       "      <td>86.124496</td>\n",
       "    </tr>\n",
       "    <tr>\n",
       "      <th>1</th>\n",
       "      <td>0.0</td>\n",
       "      <td>0</td>\n",
       "      <td>65.0</td>\n",
       "      <td>0</td>\n",
       "      <td>90.674370</td>\n",
       "    </tr>\n",
       "    <tr>\n",
       "      <th>2</th>\n",
       "      <td>0.0</td>\n",
       "      <td>1</td>\n",
       "      <td>19.0</td>\n",
       "      <td>0</td>\n",
       "      <td>87.019798</td>\n",
       "    </tr>\n",
       "    <tr>\n",
       "      <th>3</th>\n",
       "      <td>0.0</td>\n",
       "      <td>0</td>\n",
       "      <td>34.0</td>\n",
       "      <td>0</td>\n",
       "      <td>88.770905</td>\n",
       "    </tr>\n",
       "    <tr>\n",
       "      <th>4</th>\n",
       "      <td>0.0</td>\n",
       "      <td>0</td>\n",
       "      <td>30.0</td>\n",
       "      <td>0</td>\n",
       "      <td>88.502487</td>\n",
       "    </tr>\n",
       "  </tbody>\n",
       "</table>\n",
       "</div>"
      ],
      "text/plain": [
       "   white  flavor_categories_taste_notes_light, fruity  price  country_Austria  \\\n",
       "0    0.0                                            1   15.0                0   \n",
       "1    0.0                                            0   65.0                0   \n",
       "2    0.0                                            1   19.0                0   \n",
       "3    0.0                                            0   34.0                0   \n",
       "4    0.0                                            0   30.0                0   \n",
       "\n",
       "   predicted_scores  \n",
       "0         86.124496  \n",
       "1         90.674370  \n",
       "2         87.019798  \n",
       "3         88.770905  \n",
       "4         88.502487  "
      ]
     },
     "execution_count": 45,
     "metadata": {},
     "output_type": "execute_result"
    }
   ],
   "source": [
    "features_df.head()"
   ]
  },
  {
   "cell_type": "code",
   "execution_count": 46,
   "metadata": {},
   "outputs": [
    {
     "data": {
      "text/plain": [
       "(109662, 5)"
      ]
     },
     "execution_count": 46,
     "metadata": {},
     "output_type": "execute_result"
    }
   ],
   "source": [
    "features_df.shape"
   ]
  },
  {
   "cell_type": "code",
   "execution_count": 47,
   "metadata": {},
   "outputs": [],
   "source": [
    "# Export unscaled results\n",
    "features_df.to_csv(r'C:\\Users\\howar\\Desktop\\Data Science Boot Camp\\Group_Project_3\\prediction_modeling\\output\\full_predictions.csv', index=False)"
   ]
  },
  {
   "cell_type": "code",
   "execution_count": null,
   "metadata": {},
   "outputs": [],
   "source": []
  },
  {
   "cell_type": "code",
   "execution_count": null,
   "metadata": {},
   "outputs": [],
   "source": []
  },
  {
   "cell_type": "code",
   "execution_count": null,
   "metadata": {},
   "outputs": [],
   "source": []
  }
 ],
 "metadata": {
  "kernel_info": {
   "name": "dev"
  },
  "kernelspec": {
   "display_name": "Python [conda env:PythonData] *",
   "language": "python",
   "name": "conda-env-PythonData-py"
  },
  "language_info": {
   "codemirror_mode": {
    "name": "ipython",
    "version": 3
   },
   "file_extension": ".py",
   "mimetype": "text/x-python",
   "name": "python",
   "nbconvert_exporter": "python",
   "pygments_lexer": "ipython3",
   "version": "3.6.8"
  },
  "nteract": {
   "version": "0.12.3"
  }
 },
 "nbformat": 4,
 "nbformat_minor": 2
}
